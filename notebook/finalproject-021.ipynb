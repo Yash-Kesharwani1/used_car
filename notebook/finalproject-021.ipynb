{
 "cells": [
  {
   "cell_type": "code",
   "execution_count": 1,
   "id": "c111070a",
   "metadata": {
    "_cell_guid": "b1076dfc-b9ad-4769-8c92-a6c4dae69d19",
    "_uuid": "8f2839f25d086af736a60e9eeb907d3b93b6e0e5",
    "execution": {
     "iopub.execute_input": "2023-12-21T09:18:43.748236Z",
     "iopub.status.busy": "2023-12-21T09:18:43.747636Z",
     "iopub.status.idle": "2023-12-21T09:18:44.719516Z",
     "shell.execute_reply": "2023-12-21T09:18:44.718290Z"
    },
    "papermill": {
     "duration": 1.003867,
     "end_time": "2023-12-21T09:18:44.722420",
     "exception": false,
     "start_time": "2023-12-21T09:18:43.718553",
     "status": "completed"
    },
    "tags": []
   },
   "outputs": [
    {
     "name": "stdout",
     "output_type": "stream",
     "text": [
      "/kaggle/input/used-cars-price-prediction/test-data.csv\n",
      "/kaggle/input/used-cars-price-prediction/train-data.csv\n"
     ]
    }
   ],
   "source": [
    "# This Python 3 environment comes with many helpful analytics libraries installed\n",
    "# It is defined by the kaggle/python Docker image: https://github.com/kaggle/docker-python\n",
    "# For example, here's several helpful packages to load\n",
    "\n",
    "import numpy as np # linear algebra\n",
    "import pandas as pd # data processing, CSV file I/O (e.g. pd.read_csv)\n",
    "\n",
    "# Input data files are available in the read-only \"../input/\" directory\n",
    "# For example, running this (by clicking run or pressing Shift+Enter) will list all files under the input directory\n",
    "\n",
    "import os\n",
    "for dirname, _, filenames in os.walk('/kaggle/input'):\n",
    "    for filename in filenames:\n",
    "        print(os.path.join(dirname, filename))\n",
    "\n",
    "# You can write up to 20GB to the current directory (/kaggle/working/) that gets preserved as output when you create a version using \"Save & Run All\" \n",
    "# You can also write temporary files to /kaggle/temp/, but they won't be saved outside of the current session"
   ]
  },
  {
   "cell_type": "markdown",
   "id": "7187d83f",
   "metadata": {
    "papermill": {
     "duration": 0.025385,
     "end_time": "2023-12-21T09:18:44.773175",
     "exception": false,
     "start_time": "2023-12-21T09:18:44.747790",
     "status": "completed"
    },
    "tags": []
   },
   "source": [
    "# Import datasets"
   ]
  },
  {
   "cell_type": "code",
   "execution_count": 2,
   "id": "ce65cb3b",
   "metadata": {
    "execution": {
     "iopub.execute_input": "2023-12-21T09:18:44.827151Z",
     "iopub.status.busy": "2023-12-21T09:18:44.826529Z",
     "iopub.status.idle": "2023-12-21T09:18:46.291736Z",
     "shell.execute_reply": "2023-12-21T09:18:46.290473Z"
    },
    "papermill": {
     "duration": 1.496485,
     "end_time": "2023-12-21T09:18:46.295205",
     "exception": false,
     "start_time": "2023-12-21T09:18:44.798720",
     "status": "completed"
    },
    "tags": []
   },
   "outputs": [],
   "source": [
    "import numpy as np\n",
    "import pandas as pd\n",
    "import matplotlib.pyplot as plt\n",
    "import seaborn as sns"
   ]
  },
  {
   "cell_type": "code",
   "execution_count": 3,
   "id": "536a3aef",
   "metadata": {
    "execution": {
     "iopub.execute_input": "2023-12-21T09:18:46.349690Z",
     "iopub.status.busy": "2023-12-21T09:18:46.348497Z",
     "iopub.status.idle": "2023-12-21T09:18:46.431317Z",
     "shell.execute_reply": "2023-12-21T09:18:46.429714Z"
    },
    "papermill": {
     "duration": 0.1129,
     "end_time": "2023-12-21T09:18:46.434437",
     "exception": false,
     "start_time": "2023-12-21T09:18:46.321537",
     "status": "completed"
    },
    "tags": []
   },
   "outputs": [
    {
     "data": {
      "text/html": [
       "<div>\n",
       "<style scoped>\n",
       "    .dataframe tbody tr th:only-of-type {\n",
       "        vertical-align: middle;\n",
       "    }\n",
       "\n",
       "    .dataframe tbody tr th {\n",
       "        vertical-align: top;\n",
       "    }\n",
       "\n",
       "    .dataframe thead th {\n",
       "        text-align: right;\n",
       "    }\n",
       "</style>\n",
       "<table border=\"1\" class=\"dataframe\">\n",
       "  <thead>\n",
       "    <tr style=\"text-align: right;\">\n",
       "      <th></th>\n",
       "      <th>Unnamed: 0</th>\n",
       "      <th>Name</th>\n",
       "      <th>Location</th>\n",
       "      <th>Year</th>\n",
       "      <th>Kilometers_Driven</th>\n",
       "      <th>Fuel_Type</th>\n",
       "      <th>Transmission</th>\n",
       "      <th>Owner_Type</th>\n",
       "      <th>Mileage</th>\n",
       "      <th>Engine</th>\n",
       "      <th>Power</th>\n",
       "      <th>Seats</th>\n",
       "      <th>New_Price</th>\n",
       "      <th>Price</th>\n",
       "    </tr>\n",
       "  </thead>\n",
       "  <tbody>\n",
       "    <tr>\n",
       "      <th>0</th>\n",
       "      <td>0</td>\n",
       "      <td>Maruti Wagon R LXI CNG</td>\n",
       "      <td>Mumbai</td>\n",
       "      <td>2010</td>\n",
       "      <td>72000</td>\n",
       "      <td>CNG</td>\n",
       "      <td>Manual</td>\n",
       "      <td>First</td>\n",
       "      <td>26.6 km/kg</td>\n",
       "      <td>998 CC</td>\n",
       "      <td>58.16 bhp</td>\n",
       "      <td>5.0</td>\n",
       "      <td>NaN</td>\n",
       "      <td>1.75</td>\n",
       "    </tr>\n",
       "    <tr>\n",
       "      <th>1</th>\n",
       "      <td>1</td>\n",
       "      <td>Hyundai Creta 1.6 CRDi SX Option</td>\n",
       "      <td>Pune</td>\n",
       "      <td>2015</td>\n",
       "      <td>41000</td>\n",
       "      <td>Diesel</td>\n",
       "      <td>Manual</td>\n",
       "      <td>First</td>\n",
       "      <td>19.67 kmpl</td>\n",
       "      <td>1582 CC</td>\n",
       "      <td>126.2 bhp</td>\n",
       "      <td>5.0</td>\n",
       "      <td>NaN</td>\n",
       "      <td>12.50</td>\n",
       "    </tr>\n",
       "    <tr>\n",
       "      <th>2</th>\n",
       "      <td>2</td>\n",
       "      <td>Honda Jazz V</td>\n",
       "      <td>Chennai</td>\n",
       "      <td>2011</td>\n",
       "      <td>46000</td>\n",
       "      <td>Petrol</td>\n",
       "      <td>Manual</td>\n",
       "      <td>First</td>\n",
       "      <td>18.2 kmpl</td>\n",
       "      <td>1199 CC</td>\n",
       "      <td>88.7 bhp</td>\n",
       "      <td>5.0</td>\n",
       "      <td>8.61 Lakh</td>\n",
       "      <td>4.50</td>\n",
       "    </tr>\n",
       "    <tr>\n",
       "      <th>3</th>\n",
       "      <td>3</td>\n",
       "      <td>Maruti Ertiga VDI</td>\n",
       "      <td>Chennai</td>\n",
       "      <td>2012</td>\n",
       "      <td>87000</td>\n",
       "      <td>Diesel</td>\n",
       "      <td>Manual</td>\n",
       "      <td>First</td>\n",
       "      <td>20.77 kmpl</td>\n",
       "      <td>1248 CC</td>\n",
       "      <td>88.76 bhp</td>\n",
       "      <td>7.0</td>\n",
       "      <td>NaN</td>\n",
       "      <td>6.00</td>\n",
       "    </tr>\n",
       "    <tr>\n",
       "      <th>4</th>\n",
       "      <td>4</td>\n",
       "      <td>Audi A4 New 2.0 TDI Multitronic</td>\n",
       "      <td>Coimbatore</td>\n",
       "      <td>2013</td>\n",
       "      <td>40670</td>\n",
       "      <td>Diesel</td>\n",
       "      <td>Automatic</td>\n",
       "      <td>Second</td>\n",
       "      <td>15.2 kmpl</td>\n",
       "      <td>1968 CC</td>\n",
       "      <td>140.8 bhp</td>\n",
       "      <td>5.0</td>\n",
       "      <td>NaN</td>\n",
       "      <td>17.74</td>\n",
       "    </tr>\n",
       "  </tbody>\n",
       "</table>\n",
       "</div>"
      ],
      "text/plain": [
       "   Unnamed: 0                              Name    Location  Year  \\\n",
       "0           0            Maruti Wagon R LXI CNG      Mumbai  2010   \n",
       "1           1  Hyundai Creta 1.6 CRDi SX Option        Pune  2015   \n",
       "2           2                      Honda Jazz V     Chennai  2011   \n",
       "3           3                 Maruti Ertiga VDI     Chennai  2012   \n",
       "4           4   Audi A4 New 2.0 TDI Multitronic  Coimbatore  2013   \n",
       "\n",
       "   Kilometers_Driven Fuel_Type Transmission Owner_Type     Mileage   Engine  \\\n",
       "0              72000       CNG       Manual      First  26.6 km/kg   998 CC   \n",
       "1              41000    Diesel       Manual      First  19.67 kmpl  1582 CC   \n",
       "2              46000    Petrol       Manual      First   18.2 kmpl  1199 CC   \n",
       "3              87000    Diesel       Manual      First  20.77 kmpl  1248 CC   \n",
       "4              40670    Diesel    Automatic     Second   15.2 kmpl  1968 CC   \n",
       "\n",
       "       Power  Seats  New_Price  Price  \n",
       "0  58.16 bhp    5.0        NaN   1.75  \n",
       "1  126.2 bhp    5.0        NaN  12.50  \n",
       "2   88.7 bhp    5.0  8.61 Lakh   4.50  \n",
       "3  88.76 bhp    7.0        NaN   6.00  \n",
       "4  140.8 bhp    5.0        NaN  17.74  "
      ]
     },
     "execution_count": 3,
     "metadata": {},
     "output_type": "execute_result"
    }
   ],
   "source": [
    "df = pd.read_csv(\"/kaggle/input/used-cars-price-prediction/train-data.csv\")\n",
    "df.head()"
   ]
  },
  {
   "cell_type": "code",
   "execution_count": 4,
   "id": "b805ebec",
   "metadata": {
    "execution": {
     "iopub.execute_input": "2023-12-21T09:18:46.496336Z",
     "iopub.status.busy": "2023-12-21T09:18:46.495398Z",
     "iopub.status.idle": "2023-12-21T09:18:46.534242Z",
     "shell.execute_reply": "2023-12-21T09:18:46.532988Z"
    },
    "papermill": {
     "duration": 0.074635,
     "end_time": "2023-12-21T09:18:46.537226",
     "exception": false,
     "start_time": "2023-12-21T09:18:46.462591",
     "status": "completed"
    },
    "tags": []
   },
   "outputs": [
    {
     "data": {
      "text/html": [
       "<div>\n",
       "<style scoped>\n",
       "    .dataframe tbody tr th:only-of-type {\n",
       "        vertical-align: middle;\n",
       "    }\n",
       "\n",
       "    .dataframe tbody tr th {\n",
       "        vertical-align: top;\n",
       "    }\n",
       "\n",
       "    .dataframe thead th {\n",
       "        text-align: right;\n",
       "    }\n",
       "</style>\n",
       "<table border=\"1\" class=\"dataframe\">\n",
       "  <thead>\n",
       "    <tr style=\"text-align: right;\">\n",
       "      <th></th>\n",
       "      <th>Unnamed: 0</th>\n",
       "      <th>Name</th>\n",
       "      <th>Location</th>\n",
       "      <th>Year</th>\n",
       "      <th>Kilometers_Driven</th>\n",
       "      <th>Fuel_Type</th>\n",
       "      <th>Transmission</th>\n",
       "      <th>Owner_Type</th>\n",
       "      <th>Mileage</th>\n",
       "      <th>Engine</th>\n",
       "      <th>Power</th>\n",
       "      <th>Seats</th>\n",
       "      <th>New_Price</th>\n",
       "    </tr>\n",
       "  </thead>\n",
       "  <tbody>\n",
       "    <tr>\n",
       "      <th>0</th>\n",
       "      <td>0</td>\n",
       "      <td>Maruti Alto K10 LXI CNG</td>\n",
       "      <td>Delhi</td>\n",
       "      <td>2014</td>\n",
       "      <td>40929</td>\n",
       "      <td>CNG</td>\n",
       "      <td>Manual</td>\n",
       "      <td>First</td>\n",
       "      <td>32.26 km/kg</td>\n",
       "      <td>998 CC</td>\n",
       "      <td>58.2 bhp</td>\n",
       "      <td>4.0</td>\n",
       "      <td>NaN</td>\n",
       "    </tr>\n",
       "    <tr>\n",
       "      <th>1</th>\n",
       "      <td>1</td>\n",
       "      <td>Maruti Alto 800 2016-2019 LXI</td>\n",
       "      <td>Coimbatore</td>\n",
       "      <td>2013</td>\n",
       "      <td>54493</td>\n",
       "      <td>Petrol</td>\n",
       "      <td>Manual</td>\n",
       "      <td>Second</td>\n",
       "      <td>24.7 kmpl</td>\n",
       "      <td>796 CC</td>\n",
       "      <td>47.3 bhp</td>\n",
       "      <td>5.0</td>\n",
       "      <td>NaN</td>\n",
       "    </tr>\n",
       "    <tr>\n",
       "      <th>2</th>\n",
       "      <td>2</td>\n",
       "      <td>Toyota Innova Crysta Touring Sport 2.4 MT</td>\n",
       "      <td>Mumbai</td>\n",
       "      <td>2017</td>\n",
       "      <td>34000</td>\n",
       "      <td>Diesel</td>\n",
       "      <td>Manual</td>\n",
       "      <td>First</td>\n",
       "      <td>13.68 kmpl</td>\n",
       "      <td>2393 CC</td>\n",
       "      <td>147.8 bhp</td>\n",
       "      <td>7.0</td>\n",
       "      <td>25.27 Lakh</td>\n",
       "    </tr>\n",
       "    <tr>\n",
       "      <th>3</th>\n",
       "      <td>3</td>\n",
       "      <td>Toyota Etios Liva GD</td>\n",
       "      <td>Hyderabad</td>\n",
       "      <td>2012</td>\n",
       "      <td>139000</td>\n",
       "      <td>Diesel</td>\n",
       "      <td>Manual</td>\n",
       "      <td>First</td>\n",
       "      <td>23.59 kmpl</td>\n",
       "      <td>1364 CC</td>\n",
       "      <td>null bhp</td>\n",
       "      <td>5.0</td>\n",
       "      <td>NaN</td>\n",
       "    </tr>\n",
       "    <tr>\n",
       "      <th>4</th>\n",
       "      <td>4</td>\n",
       "      <td>Hyundai i20 Magna</td>\n",
       "      <td>Mumbai</td>\n",
       "      <td>2014</td>\n",
       "      <td>29000</td>\n",
       "      <td>Petrol</td>\n",
       "      <td>Manual</td>\n",
       "      <td>First</td>\n",
       "      <td>18.5 kmpl</td>\n",
       "      <td>1197 CC</td>\n",
       "      <td>82.85 bhp</td>\n",
       "      <td>5.0</td>\n",
       "      <td>NaN</td>\n",
       "    </tr>\n",
       "  </tbody>\n",
       "</table>\n",
       "</div>"
      ],
      "text/plain": [
       "   Unnamed: 0                                       Name    Location  Year  \\\n",
       "0           0                    Maruti Alto K10 LXI CNG       Delhi  2014   \n",
       "1           1              Maruti Alto 800 2016-2019 LXI  Coimbatore  2013   \n",
       "2           2  Toyota Innova Crysta Touring Sport 2.4 MT      Mumbai  2017   \n",
       "3           3                       Toyota Etios Liva GD   Hyderabad  2012   \n",
       "4           4                          Hyundai i20 Magna      Mumbai  2014   \n",
       "\n",
       "   Kilometers_Driven Fuel_Type Transmission Owner_Type      Mileage   Engine  \\\n",
       "0              40929       CNG       Manual      First  32.26 km/kg   998 CC   \n",
       "1              54493    Petrol       Manual     Second    24.7 kmpl   796 CC   \n",
       "2              34000    Diesel       Manual      First   13.68 kmpl  2393 CC   \n",
       "3             139000    Diesel       Manual      First   23.59 kmpl  1364 CC   \n",
       "4              29000    Petrol       Manual      First    18.5 kmpl  1197 CC   \n",
       "\n",
       "       Power  Seats   New_Price  \n",
       "0   58.2 bhp    4.0         NaN  \n",
       "1   47.3 bhp    5.0         NaN  \n",
       "2  147.8 bhp    7.0  25.27 Lakh  \n",
       "3   null bhp    5.0         NaN  \n",
       "4  82.85 bhp    5.0         NaN  "
      ]
     },
     "execution_count": 4,
     "metadata": {},
     "output_type": "execute_result"
    }
   ],
   "source": [
    "tdf = pd.read_csv(\"/kaggle/input/used-cars-price-prediction/test-data.csv\")\n",
    "tdf.head()"
   ]
  },
  {
   "cell_type": "markdown",
   "id": "53c5e995",
   "metadata": {
    "papermill": {
     "duration": 0.030333,
     "end_time": "2023-12-21T09:18:46.593790",
     "exception": false,
     "start_time": "2023-12-21T09:18:46.563457",
     "status": "completed"
    },
    "tags": []
   },
   "source": [
    "# Drop unwanted columns and rows"
   ]
  },
  {
   "cell_type": "markdown",
   "id": "e8deb54a",
   "metadata": {
    "papermill": {
     "duration": 0.137295,
     "end_time": "2023-12-21T09:18:46.768237",
     "exception": false,
     "start_time": "2023-12-21T09:18:46.630942",
     "status": "completed"
    },
    "tags": []
   },
   "source": [
    "## Drop unnamed columns"
   ]
  },
  {
   "cell_type": "code",
   "execution_count": 5,
   "id": "c6c3b9f6",
   "metadata": {
    "execution": {
     "iopub.execute_input": "2023-12-21T09:18:46.823039Z",
     "iopub.status.busy": "2023-12-21T09:18:46.822575Z",
     "iopub.status.idle": "2023-12-21T09:18:46.841329Z",
     "shell.execute_reply": "2023-12-21T09:18:46.839737Z"
    },
    "papermill": {
     "duration": 0.051277,
     "end_time": "2023-12-21T09:18:46.845968",
     "exception": false,
     "start_time": "2023-12-21T09:18:46.794691",
     "status": "completed"
    },
    "tags": []
   },
   "outputs": [],
   "source": [
    "df.drop(\"Unnamed: 0\", axis=1,inplace = True)\n",
    "tdf.drop(\"Unnamed: 0\", axis=1,inplace = True)"
   ]
  },
  {
   "cell_type": "markdown",
   "id": "2c978efb",
   "metadata": {
    "papermill": {
     "duration": 0.027265,
     "end_time": "2023-12-21T09:18:46.905068",
     "exception": false,
     "start_time": "2023-12-21T09:18:46.877803",
     "status": "completed"
    },
    "tags": []
   },
   "source": [
    "## Drop NaN Rows"
   ]
  },
  {
   "cell_type": "code",
   "execution_count": 6,
   "id": "dc3290ad",
   "metadata": {
    "execution": {
     "iopub.execute_input": "2023-12-21T09:18:46.963580Z",
     "iopub.status.busy": "2023-12-21T09:18:46.962786Z",
     "iopub.status.idle": "2023-12-21T09:18:46.980443Z",
     "shell.execute_reply": "2023-12-21T09:18:46.979181Z"
    },
    "papermill": {
     "duration": 0.049568,
     "end_time": "2023-12-21T09:18:46.983419",
     "exception": false,
     "start_time": "2023-12-21T09:18:46.933851",
     "status": "completed"
    },
    "tags": []
   },
   "outputs": [
    {
     "data": {
      "text/plain": [
       "Name                    0\n",
       "Location                0\n",
       "Year                    0\n",
       "Kilometers_Driven       0\n",
       "Fuel_Type               0\n",
       "Transmission            0\n",
       "Owner_Type              0\n",
       "Mileage                 2\n",
       "Engine                 36\n",
       "Power                  36\n",
       "Seats                  42\n",
       "New_Price            5195\n",
       "Price                   0\n",
       "dtype: int64"
      ]
     },
     "execution_count": 6,
     "metadata": {},
     "output_type": "execute_result"
    }
   ],
   "source": [
    "df.isnull().sum()"
   ]
  },
  {
   "cell_type": "code",
   "execution_count": 7,
   "id": "e43aceac",
   "metadata": {
    "execution": {
     "iopub.execute_input": "2023-12-21T09:18:47.038853Z",
     "iopub.status.busy": "2023-12-21T09:18:47.038390Z",
     "iopub.status.idle": "2023-12-21T09:18:47.048269Z",
     "shell.execute_reply": "2023-12-21T09:18:47.047317Z"
    },
    "papermill": {
     "duration": 0.040867,
     "end_time": "2023-12-21T09:18:47.051274",
     "exception": false,
     "start_time": "2023-12-21T09:18:47.010407",
     "status": "completed"
    },
    "tags": []
   },
   "outputs": [
    {
     "data": {
      "text/plain": [
       "Name                    0\n",
       "Location                0\n",
       "Year                    0\n",
       "Kilometers_Driven       0\n",
       "Fuel_Type               0\n",
       "Transmission            0\n",
       "Owner_Type              0\n",
       "Mileage                 0\n",
       "Engine                 10\n",
       "Power                  10\n",
       "Seats                  11\n",
       "New_Price            1052\n",
       "dtype: int64"
      ]
     },
     "execution_count": 7,
     "metadata": {},
     "output_type": "execute_result"
    }
   ],
   "source": [
    "tdf.isnull().sum()"
   ]
  },
  {
   "cell_type": "code",
   "execution_count": 8,
   "id": "68166dd0",
   "metadata": {
    "execution": {
     "iopub.execute_input": "2023-12-21T09:18:47.106402Z",
     "iopub.status.busy": "2023-12-21T09:18:47.105967Z",
     "iopub.status.idle": "2023-12-21T09:18:47.112190Z",
     "shell.execute_reply": "2023-12-21T09:18:47.110709Z"
    },
    "papermill": {
     "duration": 0.037858,
     "end_time": "2023-12-21T09:18:47.115969",
     "exception": false,
     "start_time": "2023-12-21T09:18:47.078111",
     "status": "completed"
    },
    "tags": []
   },
   "outputs": [
    {
     "name": "stdout",
     "output_type": "stream",
     "text": [
      "6019\n",
      "1234\n"
     ]
    }
   ],
   "source": [
    "print(len(df))\n",
    "print(len(tdf))"
   ]
  },
  {
   "cell_type": "code",
   "execution_count": 9,
   "id": "3fddf465",
   "metadata": {
    "execution": {
     "iopub.execute_input": "2023-12-21T09:18:47.173740Z",
     "iopub.status.busy": "2023-12-21T09:18:47.173297Z",
     "iopub.status.idle": "2023-12-21T09:18:47.189946Z",
     "shell.execute_reply": "2023-12-21T09:18:47.188619Z"
    },
    "papermill": {
     "duration": 0.049019,
     "end_time": "2023-12-21T09:18:47.192988",
     "exception": false,
     "start_time": "2023-12-21T09:18:47.143969",
     "status": "completed"
    },
    "tags": []
   },
   "outputs": [],
   "source": [
    "df.dropna(how='any', inplace=True,axis = 0)\n",
    "tdf.dropna(how='any', inplace=True,axis = 0)"
   ]
  },
  {
   "cell_type": "code",
   "execution_count": 10,
   "id": "cbce32be",
   "metadata": {
    "execution": {
     "iopub.execute_input": "2023-12-21T09:18:47.251133Z",
     "iopub.status.busy": "2023-12-21T09:18:47.249963Z",
     "iopub.status.idle": "2023-12-21T09:18:47.261164Z",
     "shell.execute_reply": "2023-12-21T09:18:47.259780Z"
    },
    "papermill": {
     "duration": 0.043213,
     "end_time": "2023-12-21T09:18:47.263868",
     "exception": false,
     "start_time": "2023-12-21T09:18:47.220655",
     "status": "completed"
    },
    "tags": []
   },
   "outputs": [
    {
     "data": {
      "text/plain": [
       "Name                 0\n",
       "Location             0\n",
       "Year                 0\n",
       "Kilometers_Driven    0\n",
       "Fuel_Type            0\n",
       "Transmission         0\n",
       "Owner_Type           0\n",
       "Mileage              0\n",
       "Engine               0\n",
       "Power                0\n",
       "Seats                0\n",
       "New_Price            0\n",
       "Price                0\n",
       "dtype: int64"
      ]
     },
     "execution_count": 10,
     "metadata": {},
     "output_type": "execute_result"
    }
   ],
   "source": [
    "df.isnull().sum()"
   ]
  },
  {
   "cell_type": "code",
   "execution_count": 11,
   "id": "4cda2960",
   "metadata": {
    "execution": {
     "iopub.execute_input": "2023-12-21T09:18:47.320388Z",
     "iopub.status.busy": "2023-12-21T09:18:47.319918Z",
     "iopub.status.idle": "2023-12-21T09:18:47.329606Z",
     "shell.execute_reply": "2023-12-21T09:18:47.328386Z"
    },
    "papermill": {
     "duration": 0.041406,
     "end_time": "2023-12-21T09:18:47.332175",
     "exception": false,
     "start_time": "2023-12-21T09:18:47.290769",
     "status": "completed"
    },
    "tags": []
   },
   "outputs": [
    {
     "data": {
      "text/plain": [
       "Name                 0\n",
       "Location             0\n",
       "Year                 0\n",
       "Kilometers_Driven    0\n",
       "Fuel_Type            0\n",
       "Transmission         0\n",
       "Owner_Type           0\n",
       "Mileage              0\n",
       "Engine               0\n",
       "Power                0\n",
       "Seats                0\n",
       "New_Price            0\n",
       "dtype: int64"
      ]
     },
     "execution_count": 11,
     "metadata": {},
     "output_type": "execute_result"
    }
   ],
   "source": [
    "tdf.isnull().sum()"
   ]
  },
  {
   "cell_type": "markdown",
   "id": "8f827f52",
   "metadata": {
    "papermill": {
     "duration": 0.02809,
     "end_time": "2023-12-21T09:18:47.388011",
     "exception": false,
     "start_time": "2023-12-21T09:18:47.359921",
     "status": "completed"
    },
    "tags": []
   },
   "source": [
    "# Convert datatype from object to float/int"
   ]
  },
  {
   "cell_type": "code",
   "execution_count": 12,
   "id": "a7b1c775",
   "metadata": {
    "execution": {
     "iopub.execute_input": "2023-12-21T09:18:47.445374Z",
     "iopub.status.busy": "2023-12-21T09:18:47.444927Z",
     "iopub.status.idle": "2023-12-21T09:18:47.455355Z",
     "shell.execute_reply": "2023-12-21T09:18:47.454129Z"
    },
    "papermill": {
     "duration": 0.041887,
     "end_time": "2023-12-21T09:18:47.458046",
     "exception": false,
     "start_time": "2023-12-21T09:18:47.416159",
     "status": "completed"
    },
    "tags": []
   },
   "outputs": [
    {
     "data": {
      "text/plain": [
       "Name                  object\n",
       "Location              object\n",
       "Year                   int64\n",
       "Kilometers_Driven      int64\n",
       "Fuel_Type             object\n",
       "Transmission          object\n",
       "Owner_Type            object\n",
       "Mileage               object\n",
       "Engine                object\n",
       "Power                 object\n",
       "Seats                float64\n",
       "New_Price             object\n",
       "Price                float64\n",
       "dtype: object"
      ]
     },
     "execution_count": 12,
     "metadata": {},
     "output_type": "execute_result"
    }
   ],
   "source": [
    "df.dtypes"
   ]
  },
  {
   "cell_type": "markdown",
   "id": "7ac6feba",
   "metadata": {
    "papermill": {
     "duration": 0.028157,
     "end_time": "2023-12-21T09:18:47.515334",
     "exception": false,
     "start_time": "2023-12-21T09:18:47.487177",
     "status": "completed"
    },
    "tags": []
   },
   "source": [
    "## check whether there is null bhp or not"
   ]
  },
  {
   "cell_type": "code",
   "execution_count": 13,
   "id": "fa599655",
   "metadata": {
    "execution": {
     "iopub.execute_input": "2023-12-21T09:18:47.574425Z",
     "iopub.status.busy": "2023-12-21T09:18:47.573989Z",
     "iopub.status.idle": "2023-12-21T09:18:47.582568Z",
     "shell.execute_reply": "2023-12-21T09:18:47.581337Z"
    },
    "papermill": {
     "duration": 0.04276,
     "end_time": "2023-12-21T09:18:47.585851",
     "exception": false,
     "start_time": "2023-12-21T09:18:47.543091",
     "status": "completed"
    },
    "tags": []
   },
   "outputs": [
    {
     "name": "stdout",
     "output_type": "stream",
     "text": [
      "no null bhp in df\n",
      "no null bhp in tdf\n"
     ]
    }
   ],
   "source": [
    "null_list_df=[]\n",
    "null_list_tdf=[]\n",
    "for i in df[\"Power\"]:\n",
    "    if i == \"null bhp\":\n",
    "        null_list_df.append(i)\n",
    "if len(null_list_df) == 0:\n",
    "    print(\"no null bhp in df\")\n",
    "else:\n",
    "    print(null_list_df)\n",
    "for i in tdf[\"Power\"]:\n",
    "    if i == \"null bhp\":\n",
    "        null_list_tdf.append(i)\n",
    "if len(null_list_tdf) == 0:\n",
    "    print(\"no null bhp in tdf\")\n",
    "else:\n",
    "    print(null_list_df)"
   ]
  },
  {
   "cell_type": "code",
   "execution_count": 14,
   "id": "3f240c09",
   "metadata": {
    "execution": {
     "iopub.execute_input": "2023-12-21T09:18:47.643009Z",
     "iopub.status.busy": "2023-12-21T09:18:47.642492Z",
     "iopub.status.idle": "2023-12-21T09:18:47.657112Z",
     "shell.execute_reply": "2023-12-21T09:18:47.655624Z"
    },
    "papermill": {
     "duration": 0.04689,
     "end_time": "2023-12-21T09:18:47.659858",
     "exception": false,
     "start_time": "2023-12-21T09:18:47.612968",
     "status": "completed"
    },
    "tags": []
   },
   "outputs": [],
   "source": [
    "df['Mileage'] = df['Mileage'].str.rstrip('kmpl')\n",
    "df['Mileage'] = df['Mileage'].str.rstrip('km/kg')\n",
    "df['Power'] = df['Power'].str.rstrip(' bhp')\n",
    "df['Engine'] = df['Engine'].str.rstrip(' CC')\n",
    "df['New_Price'] = df['New_Price'].str.rstrip(' Lakh')"
   ]
  },
  {
   "cell_type": "code",
   "execution_count": 15,
   "id": "d05378ae",
   "metadata": {
    "execution": {
     "iopub.execute_input": "2023-12-21T09:18:47.720160Z",
     "iopub.status.busy": "2023-12-21T09:18:47.719716Z",
     "iopub.status.idle": "2023-12-21T09:18:47.731081Z",
     "shell.execute_reply": "2023-12-21T09:18:47.729747Z"
    },
    "papermill": {
     "duration": 0.043713,
     "end_time": "2023-12-21T09:18:47.734142",
     "exception": false,
     "start_time": "2023-12-21T09:18:47.690429",
     "status": "completed"
    },
    "tags": []
   },
   "outputs": [],
   "source": [
    "tdf['Mileage'] = tdf['Mileage'].str.replace(' kmpl', '')\n",
    "tdf['Mileage'] = tdf['Mileage'].str.replace(' km/kg', '')\n",
    "tdf['Power'] = tdf['Power'].str.replace(' bhp', '')\n",
    "tdf['Engine'] = tdf['Engine'].str.replace(' CC', '')\n",
    "tdf['New_Price'] = tdf['New_Price'].str.rstrip(' Lakh')"
   ]
  },
  {
   "cell_type": "markdown",
   "id": "dca91225",
   "metadata": {
    "papermill": {
     "duration": 0.027343,
     "end_time": "2023-12-21T09:18:47.789710",
     "exception": false,
     "start_time": "2023-12-21T09:18:47.762367",
     "status": "completed"
    },
    "tags": []
   },
   "source": [
    "## change from str to int"
   ]
  },
  {
   "cell_type": "code",
   "execution_count": 16,
   "id": "05a8cfe9",
   "metadata": {
    "execution": {
     "iopub.execute_input": "2023-12-21T09:18:47.847805Z",
     "iopub.status.busy": "2023-12-21T09:18:47.846586Z",
     "iopub.status.idle": "2023-12-21T09:18:47.861286Z",
     "shell.execute_reply": "2023-12-21T09:18:47.860291Z"
    },
    "papermill": {
     "duration": 0.046558,
     "end_time": "2023-12-21T09:18:47.863889",
     "exception": false,
     "start_time": "2023-12-21T09:18:47.817331",
     "status": "completed"
    },
    "tags": []
   },
   "outputs": [],
   "source": [
    "df.Mileage = pd.to_numeric(df.Mileage, errors='coerce')\n",
    "df.Power = pd.to_numeric(df.Power, errors='coerce')\n",
    "df.Engine = pd.to_numeric(df.Engine, errors='coerce')\n",
    "df.New_Price = pd.to_numeric(df.New_Price, errors='coerce')\n",
    "tdf.Mileage = pd.to_numeric(tdf.Mileage, errors='coerce')\n",
    "tdf.Power = pd.to_numeric(tdf.Power, errors='coerce')\n",
    "tdf.Engine = pd.to_numeric(tdf.Engine, errors='coerce')\n",
    "tdf.New_Price = pd.to_numeric(tdf.New_Price, errors='coerce')"
   ]
  },
  {
   "cell_type": "code",
   "execution_count": 17,
   "id": "692c5a2e",
   "metadata": {
    "execution": {
     "iopub.execute_input": "2023-12-21T09:18:47.923048Z",
     "iopub.status.busy": "2023-12-21T09:18:47.922526Z",
     "iopub.status.idle": "2023-12-21T09:18:47.931689Z",
     "shell.execute_reply": "2023-12-21T09:18:47.930756Z"
    },
    "papermill": {
     "duration": 0.041806,
     "end_time": "2023-12-21T09:18:47.934152",
     "exception": false,
     "start_time": "2023-12-21T09:18:47.892346",
     "status": "completed"
    },
    "tags": []
   },
   "outputs": [
    {
     "data": {
      "text/plain": [
       "Name                  object\n",
       "Location              object\n",
       "Year                   int64\n",
       "Kilometers_Driven      int64\n",
       "Fuel_Type             object\n",
       "Transmission          object\n",
       "Owner_Type            object\n",
       "Mileage              float64\n",
       "Engine                 int64\n",
       "Power                float64\n",
       "Seats                float64\n",
       "New_Price            float64\n",
       "Price                float64\n",
       "dtype: object"
      ]
     },
     "execution_count": 17,
     "metadata": {},
     "output_type": "execute_result"
    }
   ],
   "source": [
    "df.dtypes"
   ]
  },
  {
   "cell_type": "markdown",
   "id": "c3d699a7",
   "metadata": {
    "papermill": {
     "duration": 0.027268,
     "end_time": "2023-12-21T09:18:47.990744",
     "exception": false,
     "start_time": "2023-12-21T09:18:47.963476",
     "status": "completed"
    },
    "tags": []
   },
   "source": [
    "# Data Analysis"
   ]
  },
  {
   "cell_type": "markdown",
   "id": "df187875",
   "metadata": {
    "papermill": {
     "duration": 0.027168,
     "end_time": "2023-12-21T09:18:48.046527",
     "exception": false,
     "start_time": "2023-12-21T09:18:48.019359",
     "status": "completed"
    },
    "tags": []
   },
   "source": [
    "## Reset index"
   ]
  },
  {
   "cell_type": "code",
   "execution_count": 18,
   "id": "9bc2539a",
   "metadata": {
    "execution": {
     "iopub.execute_input": "2023-12-21T09:18:48.103423Z",
     "iopub.status.busy": "2023-12-21T09:18:48.102901Z",
     "iopub.status.idle": "2023-12-21T09:18:48.124670Z",
     "shell.execute_reply": "2023-12-21T09:18:48.123476Z"
    },
    "papermill": {
     "duration": 0.053367,
     "end_time": "2023-12-21T09:18:48.127289",
     "exception": false,
     "start_time": "2023-12-21T09:18:48.073922",
     "status": "completed"
    },
    "tags": []
   },
   "outputs": [
    {
     "data": {
      "text/html": [
       "<div>\n",
       "<style scoped>\n",
       "    .dataframe tbody tr th:only-of-type {\n",
       "        vertical-align: middle;\n",
       "    }\n",
       "\n",
       "    .dataframe tbody tr th {\n",
       "        vertical-align: top;\n",
       "    }\n",
       "\n",
       "    .dataframe thead th {\n",
       "        text-align: right;\n",
       "    }\n",
       "</style>\n",
       "<table border=\"1\" class=\"dataframe\">\n",
       "  <thead>\n",
       "    <tr style=\"text-align: right;\">\n",
       "      <th></th>\n",
       "      <th>Name</th>\n",
       "      <th>Location</th>\n",
       "      <th>Year</th>\n",
       "      <th>Kilometers_Driven</th>\n",
       "      <th>Fuel_Type</th>\n",
       "      <th>Transmission</th>\n",
       "      <th>Owner_Type</th>\n",
       "      <th>Mileage</th>\n",
       "      <th>Engine</th>\n",
       "      <th>Power</th>\n",
       "      <th>Seats</th>\n",
       "      <th>New_Price</th>\n",
       "      <th>Price</th>\n",
       "    </tr>\n",
       "  </thead>\n",
       "  <tbody>\n",
       "    <tr>\n",
       "      <th>2</th>\n",
       "      <td>Honda Jazz V</td>\n",
       "      <td>Chennai</td>\n",
       "      <td>2011</td>\n",
       "      <td>46000</td>\n",
       "      <td>Petrol</td>\n",
       "      <td>Manual</td>\n",
       "      <td>First</td>\n",
       "      <td>18.20</td>\n",
       "      <td>1199</td>\n",
       "      <td>88.70</td>\n",
       "      <td>5.0</td>\n",
       "      <td>8.61</td>\n",
       "      <td>4.50</td>\n",
       "    </tr>\n",
       "    <tr>\n",
       "      <th>7</th>\n",
       "      <td>Toyota Innova Crysta 2.8 GX AT 8S</td>\n",
       "      <td>Mumbai</td>\n",
       "      <td>2016</td>\n",
       "      <td>36000</td>\n",
       "      <td>Diesel</td>\n",
       "      <td>Automatic</td>\n",
       "      <td>First</td>\n",
       "      <td>11.36</td>\n",
       "      <td>2755</td>\n",
       "      <td>171.50</td>\n",
       "      <td>8.0</td>\n",
       "      <td>21.00</td>\n",
       "      <td>17.50</td>\n",
       "    </tr>\n",
       "    <tr>\n",
       "      <th>10</th>\n",
       "      <td>Maruti Ciaz Zeta</td>\n",
       "      <td>Kochi</td>\n",
       "      <td>2018</td>\n",
       "      <td>25692</td>\n",
       "      <td>Petrol</td>\n",
       "      <td>Manual</td>\n",
       "      <td>First</td>\n",
       "      <td>21.56</td>\n",
       "      <td>1462</td>\n",
       "      <td>103.25</td>\n",
       "      <td>5.0</td>\n",
       "      <td>10.65</td>\n",
       "      <td>9.95</td>\n",
       "    </tr>\n",
       "    <tr>\n",
       "      <th>15</th>\n",
       "      <td>Mitsubishi Pajero Sport 4X4</td>\n",
       "      <td>Delhi</td>\n",
       "      <td>2014</td>\n",
       "      <td>110000</td>\n",
       "      <td>Diesel</td>\n",
       "      <td>Manual</td>\n",
       "      <td>First</td>\n",
       "      <td>13.50</td>\n",
       "      <td>2477</td>\n",
       "      <td>175.56</td>\n",
       "      <td>7.0</td>\n",
       "      <td>32.01</td>\n",
       "      <td>15.00</td>\n",
       "    </tr>\n",
       "    <tr>\n",
       "      <th>20</th>\n",
       "      <td>BMW 3 Series 320d</td>\n",
       "      <td>Kochi</td>\n",
       "      <td>2014</td>\n",
       "      <td>32982</td>\n",
       "      <td>Diesel</td>\n",
       "      <td>Automatic</td>\n",
       "      <td>First</td>\n",
       "      <td>22.69</td>\n",
       "      <td>1995</td>\n",
       "      <td>190.00</td>\n",
       "      <td>5.0</td>\n",
       "      <td>47.87</td>\n",
       "      <td>18.55</td>\n",
       "    </tr>\n",
       "  </tbody>\n",
       "</table>\n",
       "</div>"
      ],
      "text/plain": [
       "                                 Name Location  Year  Kilometers_Driven  \\\n",
       "2                        Honda Jazz V  Chennai  2011              46000   \n",
       "7   Toyota Innova Crysta 2.8 GX AT 8S   Mumbai  2016              36000   \n",
       "10                   Maruti Ciaz Zeta    Kochi  2018              25692   \n",
       "15        Mitsubishi Pajero Sport 4X4    Delhi  2014             110000   \n",
       "20                  BMW 3 Series 320d    Kochi  2014              32982   \n",
       "\n",
       "   Fuel_Type Transmission Owner_Type  Mileage  Engine   Power  Seats  \\\n",
       "2     Petrol       Manual      First    18.20    1199   88.70    5.0   \n",
       "7     Diesel    Automatic      First    11.36    2755  171.50    8.0   \n",
       "10    Petrol       Manual      First    21.56    1462  103.25    5.0   \n",
       "15    Diesel       Manual      First    13.50    2477  175.56    7.0   \n",
       "20    Diesel    Automatic      First    22.69    1995  190.00    5.0   \n",
       "\n",
       "    New_Price  Price  \n",
       "2        8.61   4.50  \n",
       "7       21.00  17.50  \n",
       "10      10.65   9.95  \n",
       "15      32.01  15.00  \n",
       "20      47.87  18.55  "
      ]
     },
     "execution_count": 18,
     "metadata": {},
     "output_type": "execute_result"
    }
   ],
   "source": [
    "df.head()"
   ]
  },
  {
   "cell_type": "code",
   "execution_count": 19,
   "id": "af346215",
   "metadata": {
    "execution": {
     "iopub.execute_input": "2023-12-21T09:18:48.185286Z",
     "iopub.status.busy": "2023-12-21T09:18:48.184758Z",
     "iopub.status.idle": "2023-12-21T09:18:48.205455Z",
     "shell.execute_reply": "2023-12-21T09:18:48.204205Z"
    },
    "papermill": {
     "duration": 0.052585,
     "end_time": "2023-12-21T09:18:48.207953",
     "exception": false,
     "start_time": "2023-12-21T09:18:48.155368",
     "status": "completed"
    },
    "tags": []
   },
   "outputs": [
    {
     "data": {
      "text/html": [
       "<div>\n",
       "<style scoped>\n",
       "    .dataframe tbody tr th:only-of-type {\n",
       "        vertical-align: middle;\n",
       "    }\n",
       "\n",
       "    .dataframe tbody tr th {\n",
       "        vertical-align: top;\n",
       "    }\n",
       "\n",
       "    .dataframe thead th {\n",
       "        text-align: right;\n",
       "    }\n",
       "</style>\n",
       "<table border=\"1\" class=\"dataframe\">\n",
       "  <thead>\n",
       "    <tr style=\"text-align: right;\">\n",
       "      <th></th>\n",
       "      <th>Name</th>\n",
       "      <th>Location</th>\n",
       "      <th>Year</th>\n",
       "      <th>Kilometers_Driven</th>\n",
       "      <th>Fuel_Type</th>\n",
       "      <th>Transmission</th>\n",
       "      <th>Owner_Type</th>\n",
       "      <th>Mileage</th>\n",
       "      <th>Engine</th>\n",
       "      <th>Power</th>\n",
       "      <th>Seats</th>\n",
       "      <th>New_Price</th>\n",
       "    </tr>\n",
       "  </thead>\n",
       "  <tbody>\n",
       "    <tr>\n",
       "      <th>2</th>\n",
       "      <td>Toyota Innova Crysta Touring Sport 2.4 MT</td>\n",
       "      <td>Mumbai</td>\n",
       "      <td>2017</td>\n",
       "      <td>34000</td>\n",
       "      <td>Diesel</td>\n",
       "      <td>Manual</td>\n",
       "      <td>First</td>\n",
       "      <td>13.68</td>\n",
       "      <td>2393</td>\n",
       "      <td>147.80</td>\n",
       "      <td>7.0</td>\n",
       "      <td>25.27</td>\n",
       "    </tr>\n",
       "    <tr>\n",
       "      <th>30</th>\n",
       "      <td>Toyota Etios Cross 1.4L VD</td>\n",
       "      <td>Chennai</td>\n",
       "      <td>2014</td>\n",
       "      <td>70000</td>\n",
       "      <td>Diesel</td>\n",
       "      <td>Manual</td>\n",
       "      <td>Second</td>\n",
       "      <td>23.59</td>\n",
       "      <td>1364</td>\n",
       "      <td>67.06</td>\n",
       "      <td>5.0</td>\n",
       "      <td>9.27</td>\n",
       "    </tr>\n",
       "    <tr>\n",
       "      <th>36</th>\n",
       "      <td>Skoda Rapid 1.6 MPI AT Style</td>\n",
       "      <td>Mumbai</td>\n",
       "      <td>2017</td>\n",
       "      <td>13500</td>\n",
       "      <td>Petrol</td>\n",
       "      <td>Automatic</td>\n",
       "      <td>First</td>\n",
       "      <td>14.84</td>\n",
       "      <td>1598</td>\n",
       "      <td>103.52</td>\n",
       "      <td>5.0</td>\n",
       "      <td>14.95</td>\n",
       "    </tr>\n",
       "    <tr>\n",
       "      <th>39</th>\n",
       "      <td>BMW 5 Series 520d Luxury Line</td>\n",
       "      <td>Mumbai</td>\n",
       "      <td>2012</td>\n",
       "      <td>66889</td>\n",
       "      <td>Diesel</td>\n",
       "      <td>Automatic</td>\n",
       "      <td>First</td>\n",
       "      <td>22.48</td>\n",
       "      <td>1995</td>\n",
       "      <td>190.00</td>\n",
       "      <td>5.0</td>\n",
       "      <td>70.43</td>\n",
       "    </tr>\n",
       "    <tr>\n",
       "      <th>43</th>\n",
       "      <td>Skoda Rapid 1.6 MPI Ambition</td>\n",
       "      <td>Jaipur</td>\n",
       "      <td>2018</td>\n",
       "      <td>4000</td>\n",
       "      <td>Petrol</td>\n",
       "      <td>Manual</td>\n",
       "      <td>First</td>\n",
       "      <td>15.41</td>\n",
       "      <td>1598</td>\n",
       "      <td>103.52</td>\n",
       "      <td>5.0</td>\n",
       "      <td>11.89</td>\n",
       "    </tr>\n",
       "  </tbody>\n",
       "</table>\n",
       "</div>"
      ],
      "text/plain": [
       "                                         Name Location  Year  \\\n",
       "2   Toyota Innova Crysta Touring Sport 2.4 MT   Mumbai  2017   \n",
       "30                 Toyota Etios Cross 1.4L VD  Chennai  2014   \n",
       "36               Skoda Rapid 1.6 MPI AT Style   Mumbai  2017   \n",
       "39              BMW 5 Series 520d Luxury Line   Mumbai  2012   \n",
       "43               Skoda Rapid 1.6 MPI Ambition   Jaipur  2018   \n",
       "\n",
       "    Kilometers_Driven Fuel_Type Transmission Owner_Type  Mileage  Engine  \\\n",
       "2               34000    Diesel       Manual      First    13.68    2393   \n",
       "30              70000    Diesel       Manual     Second    23.59    1364   \n",
       "36              13500    Petrol    Automatic      First    14.84    1598   \n",
       "39              66889    Diesel    Automatic      First    22.48    1995   \n",
       "43               4000    Petrol       Manual      First    15.41    1598   \n",
       "\n",
       "     Power  Seats  New_Price  \n",
       "2   147.80    7.0      25.27  \n",
       "30   67.06    5.0       9.27  \n",
       "36  103.52    5.0      14.95  \n",
       "39  190.00    5.0      70.43  \n",
       "43  103.52    5.0      11.89  "
      ]
     },
     "execution_count": 19,
     "metadata": {},
     "output_type": "execute_result"
    }
   ],
   "source": [
    "tdf.head()"
   ]
  },
  {
   "cell_type": "code",
   "execution_count": 20,
   "id": "f7b14b14",
   "metadata": {
    "execution": {
     "iopub.execute_input": "2023-12-21T09:18:48.266477Z",
     "iopub.status.busy": "2023-12-21T09:18:48.266000Z",
     "iopub.status.idle": "2023-12-21T09:18:48.273283Z",
     "shell.execute_reply": "2023-12-21T09:18:48.272005Z"
    },
    "papermill": {
     "duration": 0.039466,
     "end_time": "2023-12-21T09:18:48.275780",
     "exception": false,
     "start_time": "2023-12-21T09:18:48.236314",
     "status": "completed"
    },
    "tags": []
   },
   "outputs": [],
   "source": [
    "df = df.reset_index(drop=True)\n",
    "tdf = tdf.reset_index(drop=True)"
   ]
  },
  {
   "cell_type": "code",
   "execution_count": 21,
   "id": "9c816b13",
   "metadata": {
    "execution": {
     "iopub.execute_input": "2023-12-21T09:18:48.335737Z",
     "iopub.status.busy": "2023-12-21T09:18:48.335268Z",
     "iopub.status.idle": "2023-12-21T09:18:48.357304Z",
     "shell.execute_reply": "2023-12-21T09:18:48.355986Z"
    },
    "papermill": {
     "duration": 0.054849,
     "end_time": "2023-12-21T09:18:48.360040",
     "exception": false,
     "start_time": "2023-12-21T09:18:48.305191",
     "status": "completed"
    },
    "tags": []
   },
   "outputs": [
    {
     "data": {
      "text/html": [
       "<div>\n",
       "<style scoped>\n",
       "    .dataframe tbody tr th:only-of-type {\n",
       "        vertical-align: middle;\n",
       "    }\n",
       "\n",
       "    .dataframe tbody tr th {\n",
       "        vertical-align: top;\n",
       "    }\n",
       "\n",
       "    .dataframe thead th {\n",
       "        text-align: right;\n",
       "    }\n",
       "</style>\n",
       "<table border=\"1\" class=\"dataframe\">\n",
       "  <thead>\n",
       "    <tr style=\"text-align: right;\">\n",
       "      <th></th>\n",
       "      <th>Name</th>\n",
       "      <th>Location</th>\n",
       "      <th>Year</th>\n",
       "      <th>Kilometers_Driven</th>\n",
       "      <th>Fuel_Type</th>\n",
       "      <th>Transmission</th>\n",
       "      <th>Owner_Type</th>\n",
       "      <th>Mileage</th>\n",
       "      <th>Engine</th>\n",
       "      <th>Power</th>\n",
       "      <th>Seats</th>\n",
       "      <th>New_Price</th>\n",
       "      <th>Price</th>\n",
       "    </tr>\n",
       "  </thead>\n",
       "  <tbody>\n",
       "    <tr>\n",
       "      <th>0</th>\n",
       "      <td>Honda Jazz V</td>\n",
       "      <td>Chennai</td>\n",
       "      <td>2011</td>\n",
       "      <td>46000</td>\n",
       "      <td>Petrol</td>\n",
       "      <td>Manual</td>\n",
       "      <td>First</td>\n",
       "      <td>18.20</td>\n",
       "      <td>1199</td>\n",
       "      <td>88.70</td>\n",
       "      <td>5.0</td>\n",
       "      <td>8.61</td>\n",
       "      <td>4.50</td>\n",
       "    </tr>\n",
       "    <tr>\n",
       "      <th>1</th>\n",
       "      <td>Toyota Innova Crysta 2.8 GX AT 8S</td>\n",
       "      <td>Mumbai</td>\n",
       "      <td>2016</td>\n",
       "      <td>36000</td>\n",
       "      <td>Diesel</td>\n",
       "      <td>Automatic</td>\n",
       "      <td>First</td>\n",
       "      <td>11.36</td>\n",
       "      <td>2755</td>\n",
       "      <td>171.50</td>\n",
       "      <td>8.0</td>\n",
       "      <td>21.00</td>\n",
       "      <td>17.50</td>\n",
       "    </tr>\n",
       "    <tr>\n",
       "      <th>2</th>\n",
       "      <td>Maruti Ciaz Zeta</td>\n",
       "      <td>Kochi</td>\n",
       "      <td>2018</td>\n",
       "      <td>25692</td>\n",
       "      <td>Petrol</td>\n",
       "      <td>Manual</td>\n",
       "      <td>First</td>\n",
       "      <td>21.56</td>\n",
       "      <td>1462</td>\n",
       "      <td>103.25</td>\n",
       "      <td>5.0</td>\n",
       "      <td>10.65</td>\n",
       "      <td>9.95</td>\n",
       "    </tr>\n",
       "    <tr>\n",
       "      <th>3</th>\n",
       "      <td>Mitsubishi Pajero Sport 4X4</td>\n",
       "      <td>Delhi</td>\n",
       "      <td>2014</td>\n",
       "      <td>110000</td>\n",
       "      <td>Diesel</td>\n",
       "      <td>Manual</td>\n",
       "      <td>First</td>\n",
       "      <td>13.50</td>\n",
       "      <td>2477</td>\n",
       "      <td>175.56</td>\n",
       "      <td>7.0</td>\n",
       "      <td>32.01</td>\n",
       "      <td>15.00</td>\n",
       "    </tr>\n",
       "    <tr>\n",
       "      <th>4</th>\n",
       "      <td>BMW 3 Series 320d</td>\n",
       "      <td>Kochi</td>\n",
       "      <td>2014</td>\n",
       "      <td>32982</td>\n",
       "      <td>Diesel</td>\n",
       "      <td>Automatic</td>\n",
       "      <td>First</td>\n",
       "      <td>22.69</td>\n",
       "      <td>1995</td>\n",
       "      <td>190.00</td>\n",
       "      <td>5.0</td>\n",
       "      <td>47.87</td>\n",
       "      <td>18.55</td>\n",
       "    </tr>\n",
       "  </tbody>\n",
       "</table>\n",
       "</div>"
      ],
      "text/plain": [
       "                                Name Location  Year  Kilometers_Driven  \\\n",
       "0                       Honda Jazz V  Chennai  2011              46000   \n",
       "1  Toyota Innova Crysta 2.8 GX AT 8S   Mumbai  2016              36000   \n",
       "2                   Maruti Ciaz Zeta    Kochi  2018              25692   \n",
       "3        Mitsubishi Pajero Sport 4X4    Delhi  2014             110000   \n",
       "4                  BMW 3 Series 320d    Kochi  2014              32982   \n",
       "\n",
       "  Fuel_Type Transmission Owner_Type  Mileage  Engine   Power  Seats  \\\n",
       "0    Petrol       Manual      First    18.20    1199   88.70    5.0   \n",
       "1    Diesel    Automatic      First    11.36    2755  171.50    8.0   \n",
       "2    Petrol       Manual      First    21.56    1462  103.25    5.0   \n",
       "3    Diesel       Manual      First    13.50    2477  175.56    7.0   \n",
       "4    Diesel    Automatic      First    22.69    1995  190.00    5.0   \n",
       "\n",
       "   New_Price  Price  \n",
       "0       8.61   4.50  \n",
       "1      21.00  17.50  \n",
       "2      10.65   9.95  \n",
       "3      32.01  15.00  \n",
       "4      47.87  18.55  "
      ]
     },
     "execution_count": 21,
     "metadata": {},
     "output_type": "execute_result"
    }
   ],
   "source": [
    "df.head()"
   ]
  },
  {
   "cell_type": "code",
   "execution_count": 22,
   "id": "be741f29",
   "metadata": {
    "execution": {
     "iopub.execute_input": "2023-12-21T09:18:48.419513Z",
     "iopub.status.busy": "2023-12-21T09:18:48.419066Z",
     "iopub.status.idle": "2023-12-21T09:18:48.438564Z",
     "shell.execute_reply": "2023-12-21T09:18:48.437623Z"
    },
    "papermill": {
     "duration": 0.05246,
     "end_time": "2023-12-21T09:18:48.441085",
     "exception": false,
     "start_time": "2023-12-21T09:18:48.388625",
     "status": "completed"
    },
    "tags": []
   },
   "outputs": [
    {
     "data": {
      "text/html": [
       "<div>\n",
       "<style scoped>\n",
       "    .dataframe tbody tr th:only-of-type {\n",
       "        vertical-align: middle;\n",
       "    }\n",
       "\n",
       "    .dataframe tbody tr th {\n",
       "        vertical-align: top;\n",
       "    }\n",
       "\n",
       "    .dataframe thead th {\n",
       "        text-align: right;\n",
       "    }\n",
       "</style>\n",
       "<table border=\"1\" class=\"dataframe\">\n",
       "  <thead>\n",
       "    <tr style=\"text-align: right;\">\n",
       "      <th></th>\n",
       "      <th>Name</th>\n",
       "      <th>Location</th>\n",
       "      <th>Year</th>\n",
       "      <th>Kilometers_Driven</th>\n",
       "      <th>Fuel_Type</th>\n",
       "      <th>Transmission</th>\n",
       "      <th>Owner_Type</th>\n",
       "      <th>Mileage</th>\n",
       "      <th>Engine</th>\n",
       "      <th>Power</th>\n",
       "      <th>Seats</th>\n",
       "      <th>New_Price</th>\n",
       "    </tr>\n",
       "  </thead>\n",
       "  <tbody>\n",
       "    <tr>\n",
       "      <th>0</th>\n",
       "      <td>Toyota Innova Crysta Touring Sport 2.4 MT</td>\n",
       "      <td>Mumbai</td>\n",
       "      <td>2017</td>\n",
       "      <td>34000</td>\n",
       "      <td>Diesel</td>\n",
       "      <td>Manual</td>\n",
       "      <td>First</td>\n",
       "      <td>13.68</td>\n",
       "      <td>2393</td>\n",
       "      <td>147.80</td>\n",
       "      <td>7.0</td>\n",
       "      <td>25.27</td>\n",
       "    </tr>\n",
       "    <tr>\n",
       "      <th>1</th>\n",
       "      <td>Toyota Etios Cross 1.4L VD</td>\n",
       "      <td>Chennai</td>\n",
       "      <td>2014</td>\n",
       "      <td>70000</td>\n",
       "      <td>Diesel</td>\n",
       "      <td>Manual</td>\n",
       "      <td>Second</td>\n",
       "      <td>23.59</td>\n",
       "      <td>1364</td>\n",
       "      <td>67.06</td>\n",
       "      <td>5.0</td>\n",
       "      <td>9.27</td>\n",
       "    </tr>\n",
       "    <tr>\n",
       "      <th>2</th>\n",
       "      <td>Skoda Rapid 1.6 MPI AT Style</td>\n",
       "      <td>Mumbai</td>\n",
       "      <td>2017</td>\n",
       "      <td>13500</td>\n",
       "      <td>Petrol</td>\n",
       "      <td>Automatic</td>\n",
       "      <td>First</td>\n",
       "      <td>14.84</td>\n",
       "      <td>1598</td>\n",
       "      <td>103.52</td>\n",
       "      <td>5.0</td>\n",
       "      <td>14.95</td>\n",
       "    </tr>\n",
       "    <tr>\n",
       "      <th>3</th>\n",
       "      <td>BMW 5 Series 520d Luxury Line</td>\n",
       "      <td>Mumbai</td>\n",
       "      <td>2012</td>\n",
       "      <td>66889</td>\n",
       "      <td>Diesel</td>\n",
       "      <td>Automatic</td>\n",
       "      <td>First</td>\n",
       "      <td>22.48</td>\n",
       "      <td>1995</td>\n",
       "      <td>190.00</td>\n",
       "      <td>5.0</td>\n",
       "      <td>70.43</td>\n",
       "    </tr>\n",
       "    <tr>\n",
       "      <th>4</th>\n",
       "      <td>Skoda Rapid 1.6 MPI Ambition</td>\n",
       "      <td>Jaipur</td>\n",
       "      <td>2018</td>\n",
       "      <td>4000</td>\n",
       "      <td>Petrol</td>\n",
       "      <td>Manual</td>\n",
       "      <td>First</td>\n",
       "      <td>15.41</td>\n",
       "      <td>1598</td>\n",
       "      <td>103.52</td>\n",
       "      <td>5.0</td>\n",
       "      <td>11.89</td>\n",
       "    </tr>\n",
       "  </tbody>\n",
       "</table>\n",
       "</div>"
      ],
      "text/plain": [
       "                                        Name Location  Year  \\\n",
       "0  Toyota Innova Crysta Touring Sport 2.4 MT   Mumbai  2017   \n",
       "1                 Toyota Etios Cross 1.4L VD  Chennai  2014   \n",
       "2               Skoda Rapid 1.6 MPI AT Style   Mumbai  2017   \n",
       "3              BMW 5 Series 520d Luxury Line   Mumbai  2012   \n",
       "4               Skoda Rapid 1.6 MPI Ambition   Jaipur  2018   \n",
       "\n",
       "   Kilometers_Driven Fuel_Type Transmission Owner_Type  Mileage  Engine  \\\n",
       "0              34000    Diesel       Manual      First    13.68    2393   \n",
       "1              70000    Diesel       Manual     Second    23.59    1364   \n",
       "2              13500    Petrol    Automatic      First    14.84    1598   \n",
       "3              66889    Diesel    Automatic      First    22.48    1995   \n",
       "4               4000    Petrol       Manual      First    15.41    1598   \n",
       "\n",
       "    Power  Seats  New_Price  \n",
       "0  147.80    7.0      25.27  \n",
       "1   67.06    5.0       9.27  \n",
       "2  103.52    5.0      14.95  \n",
       "3  190.00    5.0      70.43  \n",
       "4  103.52    5.0      11.89  "
      ]
     },
     "execution_count": 22,
     "metadata": {},
     "output_type": "execute_result"
    }
   ],
   "source": [
    "tdf.head()"
   ]
  },
  {
   "cell_type": "markdown",
   "id": "6f89cd1d",
   "metadata": {
    "papermill": {
     "duration": 0.029874,
     "end_time": "2023-12-21T09:18:48.500083",
     "exception": false,
     "start_time": "2023-12-21T09:18:48.470209",
     "status": "completed"
    },
    "tags": []
   },
   "source": [
    "## Plot the columns that its datatype aren't numbers"
   ]
  },
  {
   "cell_type": "code",
   "execution_count": 23,
   "id": "b24200c5",
   "metadata": {
    "execution": {
     "iopub.execute_input": "2023-12-21T09:18:48.559832Z",
     "iopub.status.busy": "2023-12-21T09:18:48.559169Z",
     "iopub.status.idle": "2023-12-21T09:18:48.577985Z",
     "shell.execute_reply": "2023-12-21T09:18:48.576498Z"
    },
    "papermill": {
     "duration": 0.052215,
     "end_time": "2023-12-21T09:18:48.581121",
     "exception": false,
     "start_time": "2023-12-21T09:18:48.528906",
     "status": "completed"
    },
    "tags": []
   },
   "outputs": [],
   "source": [
    "x = df.groupby('Fuel_Type').sum().index\n",
    "y = df.groupby('Fuel_Type')['Name'].count()"
   ]
  },
  {
   "cell_type": "code",
   "execution_count": 24,
   "id": "5207e153",
   "metadata": {
    "execution": {
     "iopub.execute_input": "2023-12-21T09:18:48.642041Z",
     "iopub.status.busy": "2023-12-21T09:18:48.641542Z",
     "iopub.status.idle": "2023-12-21T09:18:48.973844Z",
     "shell.execute_reply": "2023-12-21T09:18:48.972888Z"
    },
    "papermill": {
     "duration": 0.365583,
     "end_time": "2023-12-21T09:18:48.976568",
     "exception": false,
     "start_time": "2023-12-21T09:18:48.610985",
     "status": "completed"
    },
    "tags": []
   },
   "outputs": [
    {
     "data": {
      "image/png": "[encoded data removed]",
      "text/plain": [
       "<Figure size 640x480 with 1 Axes>"
      ]
     },
     "metadata": {},
     "output_type": "display_data"
    }
   ],
   "source": [
    "plt.bar(x, y)\n",
    "plt.xlabel('Fuel Type')\n",
    "plt.ylabel('Number')\n",
    "plt.show()"
   ]
  },
  {
   "cell_type": "code",
   "execution_count": 25,
   "id": "7c5ca505",
   "metadata": {
    "execution": {
     "iopub.execute_input": "2023-12-21T09:18:49.040457Z",
     "iopub.status.busy": "2023-12-21T09:18:49.040030Z",
     "iopub.status.idle": "2023-12-21T09:18:49.050996Z",
     "shell.execute_reply": "2023-12-21T09:18:49.050036Z"
    },
    "papermill": {
     "duration": 0.046703,
     "end_time": "2023-12-21T09:18:49.053148",
     "exception": false,
     "start_time": "2023-12-21T09:18:49.006445",
     "status": "completed"
    },
    "tags": []
   },
   "outputs": [],
   "source": [
    "x1 = df.groupby('Owner_Type').sum().index\n",
    "y1 = df.groupby('Owner_Type')['Name'].count()"
   ]
  },
  {
   "cell_type": "code",
   "execution_count": 26,
   "id": "43bc28ce",
   "metadata": {
    "execution": {
     "iopub.execute_input": "2023-12-21T09:18:49.113744Z",
     "iopub.status.busy": "2023-12-21T09:18:49.113279Z",
     "iopub.status.idle": "2023-12-21T09:18:49.350975Z",
     "shell.execute_reply": "2023-12-21T09:18:49.349648Z"
    },
    "papermill": {
     "duration": 0.271269,
     "end_time": "2023-12-21T09:18:49.353675",
     "exception": false,
     "start_time": "2023-12-21T09:18:49.082406",
     "status": "completed"
    },
    "tags": []
   },
   "outputs": [
    {
     "data": {
      "image/png": "[encoded data removed]",
      "text/plain": [
       "<Figure size 640x480 with 1 Axes>"
      ]
     },
     "metadata": {},
     "output_type": "display_data"
    }
   ],
   "source": [
    "plt.bar(x1, y1)\n",
    "plt.xlabel('Owner_Type')\n",
    "plt.ylabel('Number')\n",
    "plt.show()"
   ]
  },
  {
   "cell_type": "code",
   "execution_count": 27,
   "id": "75a62d17",
   "metadata": {
    "execution": {
     "iopub.execute_input": "2023-12-21T09:18:49.416184Z",
     "iopub.status.busy": "2023-12-21T09:18:49.415673Z",
     "iopub.status.idle": "2023-12-21T09:18:49.427517Z",
     "shell.execute_reply": "2023-12-21T09:18:49.426294Z"
    },
    "papermill": {
     "duration": 0.046663,
     "end_time": "2023-12-21T09:18:49.430616",
     "exception": false,
     "start_time": "2023-12-21T09:18:49.383953",
     "status": "completed"
    },
    "tags": []
   },
   "outputs": [],
   "source": [
    "x2 = df.groupby('Transmission').sum().index\n",
    "y2 = df.groupby('Transmission')['Name'].count()"
   ]
  },
  {
   "cell_type": "code",
   "execution_count": 28,
   "id": "a31ccead",
   "metadata": {
    "execution": {
     "iopub.execute_input": "2023-12-21T09:18:49.494664Z",
     "iopub.status.busy": "2023-12-21T09:18:49.494165Z",
     "iopub.status.idle": "2023-12-21T09:18:49.708273Z",
     "shell.execute_reply": "2023-12-21T09:18:49.706896Z"
    },
    "papermill": {
     "duration": 0.250233,
     "end_time": "2023-12-21T09:18:49.711124",
     "exception": false,
     "start_time": "2023-12-21T09:18:49.460891",
     "status": "completed"
    },
    "tags": []
   },
   "outputs": [
    {
     "data": {
      "image/png": "[encoded data removed]",
      "text/plain": [
       "<Figure size 640x480 with 1 Axes>"
      ]
     },
     "metadata": {},
     "output_type": "display_data"
    }
   ],
   "source": [
    "plt.bar(x2, y2)\n",
    "plt.xlabel('Transmission')\n",
    "plt.ylabel('Number')\n",
    "plt.show()"
   ]
  },
  {
   "cell_type": "code",
   "execution_count": 29,
   "id": "eb2b3ac2",
   "metadata": {
    "execution": {
     "iopub.execute_input": "2023-12-21T09:18:49.774928Z",
     "iopub.status.busy": "2023-12-21T09:18:49.774432Z",
     "iopub.status.idle": "2023-12-21T09:18:49.787516Z",
     "shell.execute_reply": "2023-12-21T09:18:49.785775Z"
    },
    "papermill": {
     "duration": 0.048453,
     "end_time": "2023-12-21T09:18:49.790365",
     "exception": false,
     "start_time": "2023-12-21T09:18:49.741912",
     "status": "completed"
    },
    "tags": []
   },
   "outputs": [
    {
     "name": "stdout",
     "output_type": "stream",
     "text": [
      "Most important features relative to Price-target\n",
      "Price                1.000000\n",
      "New_Price            0.903636\n",
      "Power                0.777187\n",
      "Engine               0.696675\n",
      "Year                 0.227202\n",
      "Seats                0.046168\n",
      "Kilometers_Driven   -0.154463\n",
      "Mileage             -0.433571\n",
      "Name: Price, dtype: float64\n"
     ]
    }
   ],
   "source": [
    "print(\"Most important features relative to Price-target\")\n",
    "numeric_vals = df.select_dtypes(include=['number'])\n",
    "numeric_corr = numeric_vals.corr()\n",
    "numeric_corr.sort_values([\"Price\"], ascending = False, inplace = True)\n",
    "print(numeric_corr.Price)"
   ]
  },
  {
   "cell_type": "code",
   "execution_count": 30,
   "id": "44b4b498",
   "metadata": {
    "execution": {
     "iopub.execute_input": "2023-12-21T09:18:49.854650Z",
     "iopub.status.busy": "2023-12-21T09:18:49.853743Z",
     "iopub.status.idle": "2023-12-21T09:18:50.455114Z",
     "shell.execute_reply": "2023-12-21T09:18:50.453685Z"
    },
    "papermill": {
     "duration": 0.636784,
     "end_time": "2023-12-21T09:18:50.458580",
     "exception": false,
     "start_time": "2023-12-21T09:18:49.821796",
     "status": "completed"
    },
    "tags": []
   },
   "outputs": [
    {
     "data": {
      "image/png": "[encoded data removed]",
      "text/plain": [
       "<Figure size 800x400 with 2 Axes>"
      ]
     },
     "metadata": {},
     "output_type": "display_data"
    }
   ],
   "source": [
    "plt.figure(figsize=(8,4))\n",
    "sns.heatmap(numeric_vals.corr(), annot=True, cmap='coolwarm', linewidth=0.5)\n",
    "plt.title('Heatmap of Correlation')\n",
    "plt.show()"
   ]
  },
  {
   "cell_type": "markdown",
   "id": "54971b0f",
   "metadata": {
    "papermill": {
     "duration": 0.03157,
     "end_time": "2023-12-21T09:18:50.523944",
     "exception": false,
     "start_time": "2023-12-21T09:18:50.492374",
     "status": "completed"
    },
    "tags": []
   },
   "source": [
    "## Approach 1: fill in non-float index with mean/median"
   ]
  },
  {
   "cell_type": "code",
   "execution_count": 31,
   "id": "2e21aabf",
   "metadata": {
    "execution": {
     "iopub.execute_input": "2023-12-21T09:18:50.589837Z",
     "iopub.status.busy": "2023-12-21T09:18:50.589382Z",
     "iopub.status.idle": "2023-12-21T09:18:50.599217Z",
     "shell.execute_reply": "2023-12-21T09:18:50.597667Z"
    },
    "papermill": {
     "duration": 0.046373,
     "end_time": "2023-12-21T09:18:50.602251",
     "exception": false,
     "start_time": "2023-12-21T09:18:50.555878",
     "status": "completed"
    },
    "tags": []
   },
   "outputs": [],
   "source": [
    "grouped = df.groupby(df.Fuel_Type)\n",
    "df_petrol = grouped.get_group(\"Petrol\")\n",
    "df_diesel = grouped.get_group(\"Diesel\")\n",
    "df_CNG = grouped.get_group(\"CNG\")"
   ]
  },
  {
   "cell_type": "code",
   "execution_count": 32,
   "id": "8c12b260",
   "metadata": {
    "execution": {
     "iopub.execute_input": "2023-12-21T09:18:50.669815Z",
     "iopub.status.busy": "2023-12-21T09:18:50.668638Z",
     "iopub.status.idle": "2023-12-21T09:18:50.678270Z",
     "shell.execute_reply": "2023-12-21T09:18:50.676913Z"
    },
    "papermill": {
     "duration": 0.04798,
     "end_time": "2023-12-21T09:18:50.681635",
     "exception": false,
     "start_time": "2023-12-21T09:18:50.633655",
     "status": "completed"
    },
    "tags": []
   },
   "outputs": [
    {
     "name": "stdout",
     "output_type": "stream",
     "text": [
      "Mean price of petrol cars: 8.577601078167115\n",
      "Mean price of diesel cars: 18.098374717832957\n",
      "Mean price of CNG cars: 3.5677777777777777\n"
     ]
    }
   ],
   "source": [
    "print(\"Mean price of petrol cars:\" ,df_petrol.Price.mean())\n",
    "print(\"Mean price of diesel cars:\" ,df_diesel.Price.mean())\n",
    "print(\"Mean price of CNG cars:\" ,df_CNG.Price.mean())"
   ]
  },
  {
   "cell_type": "code",
   "execution_count": 33,
   "id": "b63a4898",
   "metadata": {
    "execution": {
     "iopub.execute_input": "2023-12-21T09:18:50.749329Z",
     "iopub.status.busy": "2023-12-21T09:18:50.748835Z",
     "iopub.status.idle": "2023-12-21T09:18:50.758126Z",
     "shell.execute_reply": "2023-12-21T09:18:50.756791Z"
    },
    "papermill": {
     "duration": 0.047189,
     "end_time": "2023-12-21T09:18:50.760973",
     "exception": false,
     "start_time": "2023-12-21T09:18:50.713784",
     "status": "completed"
    },
    "tags": []
   },
   "outputs": [],
   "source": [
    "grouped = df.groupby(df.Owner_Type)\n",
    "df_first = grouped.get_group(\"First\")\n",
    "df_second = grouped.get_group(\"Second\")\n",
    "df_third = grouped.get_group(\"Third\")"
   ]
  },
  {
   "cell_type": "code",
   "execution_count": 34,
   "id": "2b393ddf",
   "metadata": {
    "execution": {
     "iopub.execute_input": "2023-12-21T09:18:50.828551Z",
     "iopub.status.busy": "2023-12-21T09:18:50.828036Z",
     "iopub.status.idle": "2023-12-21T09:18:50.837255Z",
     "shell.execute_reply": "2023-12-21T09:18:50.835876Z"
    },
    "papermill": {
     "duration": 0.045475,
     "end_time": "2023-12-21T09:18:50.840220",
     "exception": false,
     "start_time": "2023-12-21T09:18:50.794745",
     "status": "completed"
    },
    "tags": []
   },
   "outputs": [
    {
     "name": "stdout",
     "output_type": "stream",
     "text": [
      "Mean price of first owned cars: 13.82303267973856\n",
      "Mean price of second owned cars: 11.84381818181818\n",
      "Mean price of third owned cars: 1.9833333333333334\n"
     ]
    }
   ],
   "source": [
    "print(\"Mean price of first owned cars:\" ,df_first.Price.mean())\n",
    "print(\"Mean price of second owned cars:\" ,df_second.Price.mean())\n",
    "print(\"Mean price of third owned cars:\" ,df_third.Price.mean())"
   ]
  },
  {
   "cell_type": "code",
   "execution_count": 35,
   "id": "272c63d9",
   "metadata": {
    "execution": {
     "iopub.execute_input": "2023-12-21T09:18:50.907118Z",
     "iopub.status.busy": "2023-12-21T09:18:50.906648Z",
     "iopub.status.idle": "2023-12-21T09:18:50.914291Z",
     "shell.execute_reply": "2023-12-21T09:18:50.913312Z"
    },
    "papermill": {
     "duration": 0.043957,
     "end_time": "2023-12-21T09:18:50.916586",
     "exception": false,
     "start_time": "2023-12-21T09:18:50.872629",
     "status": "completed"
    },
    "tags": []
   },
   "outputs": [],
   "source": [
    "grouped = df.groupby(df.Transmission)\n",
    "df_manual = grouped.get_group(\"Manual\")\n",
    "df_automatic = grouped.get_group(\"Automatic\")"
   ]
  },
  {
   "cell_type": "code",
   "execution_count": 36,
   "id": "d7cd0886",
   "metadata": {
    "execution": {
     "iopub.execute_input": "2023-12-21T09:18:50.989146Z",
     "iopub.status.busy": "2023-12-21T09:18:50.987756Z",
     "iopub.status.idle": "2023-12-21T09:18:50.995897Z",
     "shell.execute_reply": "2023-12-21T09:18:50.994390Z"
    },
    "papermill": {
     "duration": 0.045956,
     "end_time": "2023-12-21T09:18:50.998713",
     "exception": false,
     "start_time": "2023-12-21T09:18:50.952757",
     "status": "completed"
    },
    "tags": []
   },
   "outputs": [
    {
     "name": "stdout",
     "output_type": "stream",
     "text": [
      "Mean price of manual cars: 7.341933593749999\n",
      "Mean price of automatic cars: 24.028649517684887\n"
     ]
    }
   ],
   "source": [
    "print(\"Mean price of manual cars:\" ,df_manual.Price.mean())\n",
    "print(\"Mean price of automatic cars:\" ,df_automatic.Price.mean())"
   ]
  },
  {
   "cell_type": "markdown",
   "id": "9c972168",
   "metadata": {
    "papermill": {
     "duration": 0.032506,
     "end_time": "2023-12-21T09:18:51.063442",
     "exception": false,
     "start_time": "2023-12-21T09:18:51.030936",
     "status": "completed"
    },
    "tags": []
   },
   "source": [
    "## Approach 2: Use get_dummies to deal with non-float columns"
   ]
  },
  {
   "cell_type": "code",
   "execution_count": 37,
   "id": "87115fe1",
   "metadata": {
    "execution": {
     "iopub.execute_input": "2023-12-21T09:18:51.131890Z",
     "iopub.status.busy": "2023-12-21T09:18:51.130944Z",
     "iopub.status.idle": "2023-12-21T09:18:51.161892Z",
     "shell.execute_reply": "2023-12-21T09:18:51.160685Z"
    },
    "papermill": {
     "duration": 0.069365,
     "end_time": "2023-12-21T09:18:51.165062",
     "exception": false,
     "start_time": "2023-12-21T09:18:51.095697",
     "status": "completed"
    },
    "tags": []
   },
   "outputs": [
    {
     "data": {
      "text/html": [
       "<div>\n",
       "<style scoped>\n",
       "    .dataframe tbody tr th:only-of-type {\n",
       "        vertical-align: middle;\n",
       "    }\n",
       "\n",
       "    .dataframe tbody tr th {\n",
       "        vertical-align: top;\n",
       "    }\n",
       "\n",
       "    .dataframe thead th {\n",
       "        text-align: right;\n",
       "    }\n",
       "</style>\n",
       "<table border=\"1\" class=\"dataframe\">\n",
       "  <thead>\n",
       "    <tr style=\"text-align: right;\">\n",
       "      <th></th>\n",
       "      <th>Name</th>\n",
       "      <th>Location</th>\n",
       "      <th>Year</th>\n",
       "      <th>Kilometers_Driven</th>\n",
       "      <th>Mileage</th>\n",
       "      <th>Engine</th>\n",
       "      <th>Power</th>\n",
       "      <th>Seats</th>\n",
       "      <th>New_Price</th>\n",
       "      <th>Price</th>\n",
       "      <th>Transmission_Automatic</th>\n",
       "      <th>Transmission_Manual</th>\n",
       "      <th>Owner_Type_First</th>\n",
       "      <th>Owner_Type_Second</th>\n",
       "      <th>Owner_Type_Third</th>\n",
       "      <th>Fuel_Type_CNG</th>\n",
       "      <th>Fuel_Type_Diesel</th>\n",
       "      <th>Fuel_Type_Petrol</th>\n",
       "    </tr>\n",
       "  </thead>\n",
       "  <tbody>\n",
       "    <tr>\n",
       "      <th>0</th>\n",
       "      <td>Honda Jazz V</td>\n",
       "      <td>Chennai</td>\n",
       "      <td>2011</td>\n",
       "      <td>46000</td>\n",
       "      <td>18.20</td>\n",
       "      <td>1199</td>\n",
       "      <td>88.70</td>\n",
       "      <td>5.0</td>\n",
       "      <td>8.61</td>\n",
       "      <td>4.50</td>\n",
       "      <td>0</td>\n",
       "      <td>1</td>\n",
       "      <td>1</td>\n",
       "      <td>0</td>\n",
       "      <td>0</td>\n",
       "      <td>0</td>\n",
       "      <td>0</td>\n",
       "      <td>1</td>\n",
       "    </tr>\n",
       "    <tr>\n",
       "      <th>1</th>\n",
       "      <td>Toyota Innova Crysta 2.8 GX AT 8S</td>\n",
       "      <td>Mumbai</td>\n",
       "      <td>2016</td>\n",
       "      <td>36000</td>\n",
       "      <td>11.36</td>\n",
       "      <td>2755</td>\n",
       "      <td>171.50</td>\n",
       "      <td>8.0</td>\n",
       "      <td>21.00</td>\n",
       "      <td>17.50</td>\n",
       "      <td>1</td>\n",
       "      <td>0</td>\n",
       "      <td>1</td>\n",
       "      <td>0</td>\n",
       "      <td>0</td>\n",
       "      <td>0</td>\n",
       "      <td>1</td>\n",
       "      <td>0</td>\n",
       "    </tr>\n",
       "    <tr>\n",
       "      <th>2</th>\n",
       "      <td>Maruti Ciaz Zeta</td>\n",
       "      <td>Kochi</td>\n",
       "      <td>2018</td>\n",
       "      <td>25692</td>\n",
       "      <td>21.56</td>\n",
       "      <td>1462</td>\n",
       "      <td>103.25</td>\n",
       "      <td>5.0</td>\n",
       "      <td>10.65</td>\n",
       "      <td>9.95</td>\n",
       "      <td>0</td>\n",
       "      <td>1</td>\n",
       "      <td>1</td>\n",
       "      <td>0</td>\n",
       "      <td>0</td>\n",
       "      <td>0</td>\n",
       "      <td>0</td>\n",
       "      <td>1</td>\n",
       "    </tr>\n",
       "    <tr>\n",
       "      <th>3</th>\n",
       "      <td>Mitsubishi Pajero Sport 4X4</td>\n",
       "      <td>Delhi</td>\n",
       "      <td>2014</td>\n",
       "      <td>110000</td>\n",
       "      <td>13.50</td>\n",
       "      <td>2477</td>\n",
       "      <td>175.56</td>\n",
       "      <td>7.0</td>\n",
       "      <td>32.01</td>\n",
       "      <td>15.00</td>\n",
       "      <td>0</td>\n",
       "      <td>1</td>\n",
       "      <td>1</td>\n",
       "      <td>0</td>\n",
       "      <td>0</td>\n",
       "      <td>0</td>\n",
       "      <td>1</td>\n",
       "      <td>0</td>\n",
       "    </tr>\n",
       "    <tr>\n",
       "      <th>4</th>\n",
       "      <td>BMW 3 Series 320d</td>\n",
       "      <td>Kochi</td>\n",
       "      <td>2014</td>\n",
       "      <td>32982</td>\n",
       "      <td>22.69</td>\n",
       "      <td>1995</td>\n",
       "      <td>190.00</td>\n",
       "      <td>5.0</td>\n",
       "      <td>47.87</td>\n",
       "      <td>18.55</td>\n",
       "      <td>1</td>\n",
       "      <td>0</td>\n",
       "      <td>1</td>\n",
       "      <td>0</td>\n",
       "      <td>0</td>\n",
       "      <td>0</td>\n",
       "      <td>1</td>\n",
       "      <td>0</td>\n",
       "    </tr>\n",
       "  </tbody>\n",
       "</table>\n",
       "</div>"
      ],
      "text/plain": [
       "                                Name Location  Year  Kilometers_Driven  \\\n",
       "0                       Honda Jazz V  Chennai  2011              46000   \n",
       "1  Toyota Innova Crysta 2.8 GX AT 8S   Mumbai  2016              36000   \n",
       "2                   Maruti Ciaz Zeta    Kochi  2018              25692   \n",
       "3        Mitsubishi Pajero Sport 4X4    Delhi  2014             110000   \n",
       "4                  BMW 3 Series 320d    Kochi  2014              32982   \n",
       "\n",
       "   Mileage  Engine   Power  Seats  New_Price  Price  Transmission_Automatic  \\\n",
       "0    18.20    1199   88.70    5.0       8.61   4.50                       0   \n",
       "1    11.36    2755  171.50    8.0      21.00  17.50                       1   \n",
       "2    21.56    1462  103.25    5.0      10.65   9.95                       0   \n",
       "3    13.50    2477  175.56    7.0      32.01  15.00                       0   \n",
       "4    22.69    1995  190.00    5.0      47.87  18.55                       1   \n",
       "\n",
       "   Transmission_Manual  Owner_Type_First  Owner_Type_Second  Owner_Type_Third  \\\n",
       "0                    1                 1                  0                 0   \n",
       "1                    0                 1                  0                 0   \n",
       "2                    1                 1                  0                 0   \n",
       "3                    1                 1                  0                 0   \n",
       "4                    0                 1                  0                 0   \n",
       "\n",
       "   Fuel_Type_CNG  Fuel_Type_Diesel  Fuel_Type_Petrol  \n",
       "0              0                 0                 1  \n",
       "1              0                 1                 0  \n",
       "2              0                 0                 1  \n",
       "3              0                 1                 0  \n",
       "4              0                 1                 0  "
      ]
     },
     "execution_count": 37,
     "metadata": {},
     "output_type": "execute_result"
    }
   ],
   "source": [
    "df1 = pd.get_dummies(df, prefix=['Transmission', 'Owner_Type',\"Fuel_Type\"], \n",
    "               columns=['Transmission', 'Owner_Type',\"Fuel_Type\"],dtype = int)\n",
    "df1.head()"
   ]
  },
  {
   "cell_type": "code",
   "execution_count": 38,
   "id": "9497cc70",
   "metadata": {
    "execution": {
     "iopub.execute_input": "2023-12-21T09:18:51.234435Z",
     "iopub.status.busy": "2023-12-21T09:18:51.233395Z",
     "iopub.status.idle": "2023-12-21T09:18:51.262759Z",
     "shell.execute_reply": "2023-12-21T09:18:51.261479Z"
    },
    "papermill": {
     "duration": 0.067533,
     "end_time": "2023-12-21T09:18:51.265388",
     "exception": false,
     "start_time": "2023-12-21T09:18:51.197855",
     "status": "completed"
    },
    "tags": []
   },
   "outputs": [
    {
     "data": {
      "text/html": [
       "<div>\n",
       "<style scoped>\n",
       "    .dataframe tbody tr th:only-of-type {\n",
       "        vertical-align: middle;\n",
       "    }\n",
       "\n",
       "    .dataframe tbody tr th {\n",
       "        vertical-align: top;\n",
       "    }\n",
       "\n",
       "    .dataframe thead th {\n",
       "        text-align: right;\n",
       "    }\n",
       "</style>\n",
       "<table border=\"1\" class=\"dataframe\">\n",
       "  <thead>\n",
       "    <tr style=\"text-align: right;\">\n",
       "      <th></th>\n",
       "      <th>Name</th>\n",
       "      <th>Location</th>\n",
       "      <th>Year</th>\n",
       "      <th>Kilometers_Driven</th>\n",
       "      <th>Mileage</th>\n",
       "      <th>Engine</th>\n",
       "      <th>Power</th>\n",
       "      <th>Seats</th>\n",
       "      <th>New_Price</th>\n",
       "      <th>Transmission_Automatic</th>\n",
       "      <th>Transmission_Manual</th>\n",
       "      <th>Owner_Type_First</th>\n",
       "      <th>Owner_Type_Second</th>\n",
       "      <th>Fuel_Type_CNG</th>\n",
       "      <th>Fuel_Type_Diesel</th>\n",
       "      <th>Fuel_Type_Petrol</th>\n",
       "    </tr>\n",
       "  </thead>\n",
       "  <tbody>\n",
       "    <tr>\n",
       "      <th>0</th>\n",
       "      <td>Toyota Innova Crysta Touring Sport 2.4 MT</td>\n",
       "      <td>Mumbai</td>\n",
       "      <td>2017</td>\n",
       "      <td>34000</td>\n",
       "      <td>13.68</td>\n",
       "      <td>2393</td>\n",
       "      <td>147.80</td>\n",
       "      <td>7.0</td>\n",
       "      <td>25.27</td>\n",
       "      <td>0</td>\n",
       "      <td>1</td>\n",
       "      <td>1</td>\n",
       "      <td>0</td>\n",
       "      <td>0</td>\n",
       "      <td>1</td>\n",
       "      <td>0</td>\n",
       "    </tr>\n",
       "    <tr>\n",
       "      <th>1</th>\n",
       "      <td>Toyota Etios Cross 1.4L VD</td>\n",
       "      <td>Chennai</td>\n",
       "      <td>2014</td>\n",
       "      <td>70000</td>\n",
       "      <td>23.59</td>\n",
       "      <td>1364</td>\n",
       "      <td>67.06</td>\n",
       "      <td>5.0</td>\n",
       "      <td>9.27</td>\n",
       "      <td>0</td>\n",
       "      <td>1</td>\n",
       "      <td>0</td>\n",
       "      <td>1</td>\n",
       "      <td>0</td>\n",
       "      <td>1</td>\n",
       "      <td>0</td>\n",
       "    </tr>\n",
       "    <tr>\n",
       "      <th>2</th>\n",
       "      <td>Skoda Rapid 1.6 MPI AT Style</td>\n",
       "      <td>Mumbai</td>\n",
       "      <td>2017</td>\n",
       "      <td>13500</td>\n",
       "      <td>14.84</td>\n",
       "      <td>1598</td>\n",
       "      <td>103.52</td>\n",
       "      <td>5.0</td>\n",
       "      <td>14.95</td>\n",
       "      <td>1</td>\n",
       "      <td>0</td>\n",
       "      <td>1</td>\n",
       "      <td>0</td>\n",
       "      <td>0</td>\n",
       "      <td>0</td>\n",
       "      <td>1</td>\n",
       "    </tr>\n",
       "    <tr>\n",
       "      <th>3</th>\n",
       "      <td>BMW 5 Series 520d Luxury Line</td>\n",
       "      <td>Mumbai</td>\n",
       "      <td>2012</td>\n",
       "      <td>66889</td>\n",
       "      <td>22.48</td>\n",
       "      <td>1995</td>\n",
       "      <td>190.00</td>\n",
       "      <td>5.0</td>\n",
       "      <td>70.43</td>\n",
       "      <td>1</td>\n",
       "      <td>0</td>\n",
       "      <td>1</td>\n",
       "      <td>0</td>\n",
       "      <td>0</td>\n",
       "      <td>1</td>\n",
       "      <td>0</td>\n",
       "    </tr>\n",
       "    <tr>\n",
       "      <th>4</th>\n",
       "      <td>Skoda Rapid 1.6 MPI Ambition</td>\n",
       "      <td>Jaipur</td>\n",
       "      <td>2018</td>\n",
       "      <td>4000</td>\n",
       "      <td>15.41</td>\n",
       "      <td>1598</td>\n",
       "      <td>103.52</td>\n",
       "      <td>5.0</td>\n",
       "      <td>11.89</td>\n",
       "      <td>0</td>\n",
       "      <td>1</td>\n",
       "      <td>1</td>\n",
       "      <td>0</td>\n",
       "      <td>0</td>\n",
       "      <td>0</td>\n",
       "      <td>1</td>\n",
       "    </tr>\n",
       "  </tbody>\n",
       "</table>\n",
       "</div>"
      ],
      "text/plain": [
       "                                        Name Location  Year  \\\n",
       "0  Toyota Innova Crysta Touring Sport 2.4 MT   Mumbai  2017   \n",
       "1                 Toyota Etios Cross 1.4L VD  Chennai  2014   \n",
       "2               Skoda Rapid 1.6 MPI AT Style   Mumbai  2017   \n",
       "3              BMW 5 Series 520d Luxury Line   Mumbai  2012   \n",
       "4               Skoda Rapid 1.6 MPI Ambition   Jaipur  2018   \n",
       "\n",
       "   Kilometers_Driven  Mileage  Engine   Power  Seats  New_Price  \\\n",
       "0              34000    13.68    2393  147.80    7.0      25.27   \n",
       "1              70000    23.59    1364   67.06    5.0       9.27   \n",
       "2              13500    14.84    1598  103.52    5.0      14.95   \n",
       "3              66889    22.48    1995  190.00    5.0      70.43   \n",
       "4               4000    15.41    1598  103.52    5.0      11.89   \n",
       "\n",
       "   Transmission_Automatic  Transmission_Manual  Owner_Type_First  \\\n",
       "0                       0                    1                 1   \n",
       "1                       0                    1                 0   \n",
       "2                       1                    0                 1   \n",
       "3                       1                    0                 1   \n",
       "4                       0                    1                 1   \n",
       "\n",
       "   Owner_Type_Second  Fuel_Type_CNG  Fuel_Type_Diesel  Fuel_Type_Petrol  \n",
       "0                  0              0                 1                 0  \n",
       "1                  1              0                 1                 0  \n",
       "2                  0              0                 0                 1  \n",
       "3                  0              0                 1                 0  \n",
       "4                  0              0                 0                 1  "
      ]
     },
     "execution_count": 38,
     "metadata": {},
     "output_type": "execute_result"
    }
   ],
   "source": [
    "tdf1 = pd.get_dummies(tdf, prefix=['Transmission', 'Owner_Type',\"Fuel_Type\"], \n",
    "               columns=['Transmission', 'Owner_Type',\"Fuel_Type\"],dtype = int)\n",
    "tdf1.head()"
   ]
  },
  {
   "cell_type": "markdown",
   "id": "3775520b",
   "metadata": {
    "papermill": {
     "duration": 0.033462,
     "end_time": "2023-12-21T09:18:51.334789",
     "exception": false,
     "start_time": "2023-12-21T09:18:51.301327",
     "status": "completed"
    },
    "tags": []
   },
   "source": [
    "## Deal with Name and Location"
   ]
  },
  {
   "cell_type": "code",
   "execution_count": 39,
   "id": "2e6f7288",
   "metadata": {
    "execution": {
     "iopub.execute_input": "2023-12-21T09:18:51.403650Z",
     "iopub.status.busy": "2023-12-21T09:18:51.402547Z",
     "iopub.status.idle": "2023-12-21T09:18:51.423879Z",
     "shell.execute_reply": "2023-12-21T09:18:51.422521Z"
    },
    "papermill": {
     "duration": 0.059659,
     "end_time": "2023-12-21T09:18:51.426899",
     "exception": false,
     "start_time": "2023-12-21T09:18:51.367240",
     "status": "completed"
    },
    "tags": []
   },
   "outputs": [],
   "source": [
    "df1[\"Brand\"] = df1.Name.str.split(\" \").str[0]\n",
    "df1[\"Model\"] = df1.Name.str.split(\" \").str[1]\n",
    "df1.drop('Name', axis=1, inplace=True)\n",
    "tdf1[\"Brand\"] = tdf1.Name.str.split(\" \").str[0]\n",
    "tdf1[\"Model\"] = tdf1.Name.str.split(\" \").str[1]\n",
    "tdf1.drop('Name', axis=1, inplace=True)"
   ]
  },
  {
   "cell_type": "code",
   "execution_count": 40,
   "id": "bf6145fb",
   "metadata": {
    "execution": {
     "iopub.execute_input": "2023-12-21T09:18:51.497990Z",
     "iopub.status.busy": "2023-12-21T09:18:51.497486Z",
     "iopub.status.idle": "2023-12-21T09:18:51.522466Z",
     "shell.execute_reply": "2023-12-21T09:18:51.521381Z"
    },
    "papermill": {
     "duration": 0.063077,
     "end_time": "2023-12-21T09:18:51.524943",
     "exception": false,
     "start_time": "2023-12-21T09:18:51.461866",
     "status": "completed"
    },
    "tags": []
   },
   "outputs": [
    {
     "data": {
      "text/html": [
       "<div>\n",
       "<style scoped>\n",
       "    .dataframe tbody tr th:only-of-type {\n",
       "        vertical-align: middle;\n",
       "    }\n",
       "\n",
       "    .dataframe tbody tr th {\n",
       "        vertical-align: top;\n",
       "    }\n",
       "\n",
       "    .dataframe thead th {\n",
       "        text-align: right;\n",
       "    }\n",
       "</style>\n",
       "<table border=\"1\" class=\"dataframe\">\n",
       "  <thead>\n",
       "    <tr style=\"text-align: right;\">\n",
       "      <th></th>\n",
       "      <th>Location</th>\n",
       "      <th>Year</th>\n",
       "      <th>Kilometers_Driven</th>\n",
       "      <th>Mileage</th>\n",
       "      <th>Engine</th>\n",
       "      <th>Power</th>\n",
       "      <th>Seats</th>\n",
       "      <th>New_Price</th>\n",
       "      <th>Price</th>\n",
       "      <th>Transmission_Automatic</th>\n",
       "      <th>Transmission_Manual</th>\n",
       "      <th>Owner_Type_First</th>\n",
       "      <th>Owner_Type_Second</th>\n",
       "      <th>Owner_Type_Third</th>\n",
       "      <th>Fuel_Type_CNG</th>\n",
       "      <th>Fuel_Type_Diesel</th>\n",
       "      <th>Fuel_Type_Petrol</th>\n",
       "      <th>Brand</th>\n",
       "      <th>Model</th>\n",
       "    </tr>\n",
       "  </thead>\n",
       "  <tbody>\n",
       "    <tr>\n",
       "      <th>0</th>\n",
       "      <td>Chennai</td>\n",
       "      <td>2011</td>\n",
       "      <td>46000</td>\n",
       "      <td>18.20</td>\n",
       "      <td>1199</td>\n",
       "      <td>88.70</td>\n",
       "      <td>5.0</td>\n",
       "      <td>8.61</td>\n",
       "      <td>4.50</td>\n",
       "      <td>0</td>\n",
       "      <td>1</td>\n",
       "      <td>1</td>\n",
       "      <td>0</td>\n",
       "      <td>0</td>\n",
       "      <td>0</td>\n",
       "      <td>0</td>\n",
       "      <td>1</td>\n",
       "      <td>Honda</td>\n",
       "      <td>Jazz</td>\n",
       "    </tr>\n",
       "    <tr>\n",
       "      <th>1</th>\n",
       "      <td>Mumbai</td>\n",
       "      <td>2016</td>\n",
       "      <td>36000</td>\n",
       "      <td>11.36</td>\n",
       "      <td>2755</td>\n",
       "      <td>171.50</td>\n",
       "      <td>8.0</td>\n",
       "      <td>21.00</td>\n",
       "      <td>17.50</td>\n",
       "      <td>1</td>\n",
       "      <td>0</td>\n",
       "      <td>1</td>\n",
       "      <td>0</td>\n",
       "      <td>0</td>\n",
       "      <td>0</td>\n",
       "      <td>1</td>\n",
       "      <td>0</td>\n",
       "      <td>Toyota</td>\n",
       "      <td>Innova</td>\n",
       "    </tr>\n",
       "    <tr>\n",
       "      <th>2</th>\n",
       "      <td>Kochi</td>\n",
       "      <td>2018</td>\n",
       "      <td>25692</td>\n",
       "      <td>21.56</td>\n",
       "      <td>1462</td>\n",
       "      <td>103.25</td>\n",
       "      <td>5.0</td>\n",
       "      <td>10.65</td>\n",
       "      <td>9.95</td>\n",
       "      <td>0</td>\n",
       "      <td>1</td>\n",
       "      <td>1</td>\n",
       "      <td>0</td>\n",
       "      <td>0</td>\n",
       "      <td>0</td>\n",
       "      <td>0</td>\n",
       "      <td>1</td>\n",
       "      <td>Maruti</td>\n",
       "      <td>Ciaz</td>\n",
       "    </tr>\n",
       "    <tr>\n",
       "      <th>3</th>\n",
       "      <td>Delhi</td>\n",
       "      <td>2014</td>\n",
       "      <td>110000</td>\n",
       "      <td>13.50</td>\n",
       "      <td>2477</td>\n",
       "      <td>175.56</td>\n",
       "      <td>7.0</td>\n",
       "      <td>32.01</td>\n",
       "      <td>15.00</td>\n",
       "      <td>0</td>\n",
       "      <td>1</td>\n",
       "      <td>1</td>\n",
       "      <td>0</td>\n",
       "      <td>0</td>\n",
       "      <td>0</td>\n",
       "      <td>1</td>\n",
       "      <td>0</td>\n",
       "      <td>Mitsubishi</td>\n",
       "      <td>Pajero</td>\n",
       "    </tr>\n",
       "    <tr>\n",
       "      <th>4</th>\n",
       "      <td>Kochi</td>\n",
       "      <td>2014</td>\n",
       "      <td>32982</td>\n",
       "      <td>22.69</td>\n",
       "      <td>1995</td>\n",
       "      <td>190.00</td>\n",
       "      <td>5.0</td>\n",
       "      <td>47.87</td>\n",
       "      <td>18.55</td>\n",
       "      <td>1</td>\n",
       "      <td>0</td>\n",
       "      <td>1</td>\n",
       "      <td>0</td>\n",
       "      <td>0</td>\n",
       "      <td>0</td>\n",
       "      <td>1</td>\n",
       "      <td>0</td>\n",
       "      <td>BMW</td>\n",
       "      <td>3</td>\n",
       "    </tr>\n",
       "  </tbody>\n",
       "</table>\n",
       "</div>"
      ],
      "text/plain": [
       "  Location  Year  Kilometers_Driven  Mileage  Engine   Power  Seats  \\\n",
       "0  Chennai  2011              46000    18.20    1199   88.70    5.0   \n",
       "1   Mumbai  2016              36000    11.36    2755  171.50    8.0   \n",
       "2    Kochi  2018              25692    21.56    1462  103.25    5.0   \n",
       "3    Delhi  2014             110000    13.50    2477  175.56    7.0   \n",
       "4    Kochi  2014              32982    22.69    1995  190.00    5.0   \n",
       "\n",
       "   New_Price  Price  Transmission_Automatic  Transmission_Manual  \\\n",
       "0       8.61   4.50                       0                    1   \n",
       "1      21.00  17.50                       1                    0   \n",
       "2      10.65   9.95                       0                    1   \n",
       "3      32.01  15.00                       0                    1   \n",
       "4      47.87  18.55                       1                    0   \n",
       "\n",
       "   Owner_Type_First  Owner_Type_Second  Owner_Type_Third  Fuel_Type_CNG  \\\n",
       "0                 1                  0                 0              0   \n",
       "1                 1                  0                 0              0   \n",
       "2                 1                  0                 0              0   \n",
       "3                 1                  0                 0              0   \n",
       "4                 1                  0                 0              0   \n",
       "\n",
       "   Fuel_Type_Diesel  Fuel_Type_Petrol       Brand   Model  \n",
       "0                 0                 1       Honda    Jazz  \n",
       "1                 1                 0      Toyota  Innova  \n",
       "2                 0                 1      Maruti    Ciaz  \n",
       "3                 1                 0  Mitsubishi  Pajero  \n",
       "4                 1                 0         BMW       3  "
      ]
     },
     "execution_count": 40,
     "metadata": {},
     "output_type": "execute_result"
    }
   ],
   "source": [
    "df1.head()"
   ]
  },
  {
   "cell_type": "code",
   "execution_count": 41,
   "id": "2ba80d27",
   "metadata": {
    "execution": {
     "iopub.execute_input": "2023-12-21T09:18:51.594656Z",
     "iopub.status.busy": "2023-12-21T09:18:51.593400Z",
     "iopub.status.idle": "2023-12-21T09:18:51.603147Z",
     "shell.execute_reply": "2023-12-21T09:18:51.602029Z"
    },
    "papermill": {
     "duration": 0.047256,
     "end_time": "2023-12-21T09:18:51.606007",
     "exception": false,
     "start_time": "2023-12-21T09:18:51.558751",
     "status": "completed"
    },
    "tags": []
   },
   "outputs": [],
   "source": [
    "df1.drop([\"Model\"], axis = 1, inplace=True)\n",
    "tdf1.drop([\"Model\"], axis = 1, inplace=True)"
   ]
  },
  {
   "cell_type": "code",
   "execution_count": 42,
   "id": "96ab9777",
   "metadata": {
    "execution": {
     "iopub.execute_input": "2023-12-21T09:18:51.675487Z",
     "iopub.status.busy": "2023-12-21T09:18:51.674756Z",
     "iopub.status.idle": "2023-12-21T09:18:52.208378Z",
     "shell.execute_reply": "2023-12-21T09:18:52.207163Z"
    },
    "papermill": {
     "duration": 0.570629,
     "end_time": "2023-12-21T09:18:52.210934",
     "exception": false,
     "start_time": "2023-12-21T09:18:51.640305",
     "status": "completed"
    },
    "tags": []
   },
   "outputs": [
    {
     "data": {
      "image/png": "[encoded data removed]",
      "text/plain": [
       "<Figure size 3000x1000 with 1 Axes>"
      ]
     },
     "metadata": {},
     "output_type": "display_data"
    }
   ],
   "source": [
    "x3 = df1.groupby('Brand').sum().index\n",
    "y3 = df1.groupby('Brand')['Price'].mean().sort_values(ascending=False)\n",
    "plt.figure(figsize=(30,10))\n",
    "plt.bar(x3, y3)\n",
    "plt.xlabel('Model')\n",
    "plt.ylabel('Price')\n",
    "plt.show()"
   ]
  },
  {
   "cell_type": "code",
   "execution_count": 43,
   "id": "70bdc7ef",
   "metadata": {
    "execution": {
     "iopub.execute_input": "2023-12-21T09:18:52.280832Z",
     "iopub.status.busy": "2023-12-21T09:18:52.280339Z",
     "iopub.status.idle": "2023-12-21T09:18:52.720740Z",
     "shell.execute_reply": "2023-12-21T09:18:52.719397Z"
    },
    "papermill": {
     "duration": 0.478781,
     "end_time": "2023-12-21T09:18:52.723748",
     "exception": false,
     "start_time": "2023-12-21T09:18:52.244967",
     "status": "completed"
    },
    "tags": []
   },
   "outputs": [
    {
     "data": {
      "image/png": "[encoded data removed]",
      "text/plain": [
       "<Figure size 3000x1000 with 1 Axes>"
      ]
     },
     "metadata": {},
     "output_type": "display_data"
    }
   ],
   "source": [
    "x4 = df1.groupby('Location').sum().index\n",
    "y4 = df1.groupby('Location')['Price'].mean().sort_values(ascending=False)\n",
    "plt.figure(figsize=(30,10))\n",
    "plt.bar(x4, y4)\n",
    "plt.xlabel('Location')\n",
    "plt.ylabel('Price')\n",
    "plt.show()"
   ]
  },
  {
   "cell_type": "code",
   "execution_count": 44,
   "id": "e9c0bfa8",
   "metadata": {
    "execution": {
     "iopub.execute_input": "2023-12-21T09:18:52.795426Z",
     "iopub.status.busy": "2023-12-21T09:18:52.794986Z",
     "iopub.status.idle": "2023-12-21T09:18:52.804540Z",
     "shell.execute_reply": "2023-12-21T09:18:52.803270Z"
    },
    "papermill": {
     "duration": 0.048948,
     "end_time": "2023-12-21T09:18:52.807042",
     "exception": false,
     "start_time": "2023-12-21T09:18:52.758094",
     "status": "completed"
    },
    "tags": []
   },
   "outputs": [],
   "source": [
    "# make a dictionary using brand\n",
    "brand_list = list(x3)\n",
    "brand_dict = dict(list(enumerate(brand_list)))\n",
    "brand_dict = {value:key  for key,value in brand_dict.items()}\n",
    "#change Brand into numbers according to their value\n",
    "df1[\"Brand\"] = df1[\"Brand\"].map(brand_dict)\n",
    "tdf1[\"Brand\"] = tdf1[\"Brand\"].map(brand_dict)"
   ]
  },
  {
   "cell_type": "code",
   "execution_count": 45,
   "id": "2d0f53de",
   "metadata": {
    "execution": {
     "iopub.execute_input": "2023-12-21T09:18:52.877724Z",
     "iopub.status.busy": "2023-12-21T09:18:52.877246Z",
     "iopub.status.idle": "2023-12-21T09:18:52.887694Z",
     "shell.execute_reply": "2023-12-21T09:18:52.886280Z"
    },
    "papermill": {
     "duration": 0.049426,
     "end_time": "2023-12-21T09:18:52.890285",
     "exception": false,
     "start_time": "2023-12-21T09:18:52.840859",
     "status": "completed"
    },
    "tags": []
   },
   "outputs": [],
   "source": [
    "# make a dictionary using location\n",
    "location_list = list(x4)\n",
    "location_dict = dict(list(enumerate(location_list)))\n",
    "brand_dict = {value:key  for key,value in location_dict.items()}\n",
    "#change Location into numbers according to their value\n",
    "df1[\"Location\"] = df1[\"Location\"].map(brand_dict)\n",
    "tdf1[\"Location\"] = tdf1[\"Location\"].map(brand_dict)"
   ]
  },
  {
   "cell_type": "code",
   "execution_count": 46,
   "id": "ed3453b7",
   "metadata": {
    "execution": {
     "iopub.execute_input": "2023-12-21T09:18:52.962608Z",
     "iopub.status.busy": "2023-12-21T09:18:52.962180Z",
     "iopub.status.idle": "2023-12-21T09:18:52.994099Z",
     "shell.execute_reply": "2023-12-21T09:18:52.992885Z"
    },
    "papermill": {
     "duration": 0.071924,
     "end_time": "2023-12-21T09:18:52.997134",
     "exception": false,
     "start_time": "2023-12-21T09:18:52.925210",
     "status": "completed"
    },
    "tags": []
   },
   "outputs": [
    {
     "data": {
      "text/html": [
       "<div>\n",
       "<style scoped>\n",
       "    .dataframe tbody tr th:only-of-type {\n",
       "        vertical-align: middle;\n",
       "    }\n",
       "\n",
       "    .dataframe tbody tr th {\n",
       "        vertical-align: top;\n",
       "    }\n",
       "\n",
       "    .dataframe thead th {\n",
       "        text-align: right;\n",
       "    }\n",
       "</style>\n",
       "<table border=\"1\" class=\"dataframe\">\n",
       "  <thead>\n",
       "    <tr style=\"text-align: right;\">\n",
       "      <th></th>\n",
       "      <th>Location</th>\n",
       "      <th>Year</th>\n",
       "      <th>Kilometers_Driven</th>\n",
       "      <th>Mileage</th>\n",
       "      <th>Engine</th>\n",
       "      <th>Power</th>\n",
       "      <th>Seats</th>\n",
       "      <th>New_Price</th>\n",
       "      <th>Price</th>\n",
       "      <th>Transmission_Automatic</th>\n",
       "      <th>Transmission_Manual</th>\n",
       "      <th>Owner_Type_First</th>\n",
       "      <th>Owner_Type_Second</th>\n",
       "      <th>Owner_Type_Third</th>\n",
       "      <th>Fuel_Type_CNG</th>\n",
       "      <th>Fuel_Type_Diesel</th>\n",
       "      <th>Fuel_Type_Petrol</th>\n",
       "      <th>Brand</th>\n",
       "    </tr>\n",
       "  </thead>\n",
       "  <tbody>\n",
       "    <tr>\n",
       "      <th>0</th>\n",
       "      <td>2</td>\n",
       "      <td>2011</td>\n",
       "      <td>46000</td>\n",
       "      <td>18.20</td>\n",
       "      <td>1199</td>\n",
       "      <td>88.70</td>\n",
       "      <td>5.0</td>\n",
       "      <td>8.61</td>\n",
       "      <td>4.50</td>\n",
       "      <td>0</td>\n",
       "      <td>1</td>\n",
       "      <td>1</td>\n",
       "      <td>0</td>\n",
       "      <td>0</td>\n",
       "      <td>0</td>\n",
       "      <td>0</td>\n",
       "      <td>1</td>\n",
       "      <td>5</td>\n",
       "    </tr>\n",
       "    <tr>\n",
       "      <th>1</th>\n",
       "      <td>9</td>\n",
       "      <td>2016</td>\n",
       "      <td>36000</td>\n",
       "      <td>11.36</td>\n",
       "      <td>2755</td>\n",
       "      <td>171.50</td>\n",
       "      <td>8.0</td>\n",
       "      <td>21.00</td>\n",
       "      <td>17.50</td>\n",
       "      <td>1</td>\n",
       "      <td>0</td>\n",
       "      <td>1</td>\n",
       "      <td>0</td>\n",
       "      <td>0</td>\n",
       "      <td>0</td>\n",
       "      <td>1</td>\n",
       "      <td>0</td>\n",
       "      <td>21</td>\n",
       "    </tr>\n",
       "    <tr>\n",
       "      <th>2</th>\n",
       "      <td>7</td>\n",
       "      <td>2018</td>\n",
       "      <td>25692</td>\n",
       "      <td>21.56</td>\n",
       "      <td>1462</td>\n",
       "      <td>103.25</td>\n",
       "      <td>5.0</td>\n",
       "      <td>10.65</td>\n",
       "      <td>9.95</td>\n",
       "      <td>0</td>\n",
       "      <td>1</td>\n",
       "      <td>1</td>\n",
       "      <td>0</td>\n",
       "      <td>0</td>\n",
       "      <td>0</td>\n",
       "      <td>0</td>\n",
       "      <td>1</td>\n",
       "      <td>12</td>\n",
       "    </tr>\n",
       "    <tr>\n",
       "      <th>3</th>\n",
       "      <td>4</td>\n",
       "      <td>2014</td>\n",
       "      <td>110000</td>\n",
       "      <td>13.50</td>\n",
       "      <td>2477</td>\n",
       "      <td>175.56</td>\n",
       "      <td>7.0</td>\n",
       "      <td>32.01</td>\n",
       "      <td>15.00</td>\n",
       "      <td>0</td>\n",
       "      <td>1</td>\n",
       "      <td>1</td>\n",
       "      <td>0</td>\n",
       "      <td>0</td>\n",
       "      <td>0</td>\n",
       "      <td>1</td>\n",
       "      <td>0</td>\n",
       "      <td>15</td>\n",
       "    </tr>\n",
       "    <tr>\n",
       "      <th>4</th>\n",
       "      <td>7</td>\n",
       "      <td>2014</td>\n",
       "      <td>32982</td>\n",
       "      <td>22.69</td>\n",
       "      <td>1995</td>\n",
       "      <td>190.00</td>\n",
       "      <td>5.0</td>\n",
       "      <td>47.87</td>\n",
       "      <td>18.55</td>\n",
       "      <td>1</td>\n",
       "      <td>0</td>\n",
       "      <td>1</td>\n",
       "      <td>0</td>\n",
       "      <td>0</td>\n",
       "      <td>0</td>\n",
       "      <td>1</td>\n",
       "      <td>0</td>\n",
       "      <td>1</td>\n",
       "    </tr>\n",
       "    <tr>\n",
       "      <th>...</th>\n",
       "      <td>...</td>\n",
       "      <td>...</td>\n",
       "      <td>...</td>\n",
       "      <td>...</td>\n",
       "      <td>...</td>\n",
       "      <td>...</td>\n",
       "      <td>...</td>\n",
       "      <td>...</td>\n",
       "      <td>...</td>\n",
       "      <td>...</td>\n",
       "      <td>...</td>\n",
       "      <td>...</td>\n",
       "      <td>...</td>\n",
       "      <td>...</td>\n",
       "      <td>...</td>\n",
       "      <td>...</td>\n",
       "      <td>...</td>\n",
       "      <td>...</td>\n",
       "    </tr>\n",
       "    <tr>\n",
       "      <th>818</th>\n",
       "      <td>2</td>\n",
       "      <td>2016</td>\n",
       "      <td>10000</td>\n",
       "      <td>17.57</td>\n",
       "      <td>1193</td>\n",
       "      <td>88.70</td>\n",
       "      <td>5.0</td>\n",
       "      <td>7.77</td>\n",
       "      <td>4.00</td>\n",
       "      <td>0</td>\n",
       "      <td>1</td>\n",
       "      <td>1</td>\n",
       "      <td>0</td>\n",
       "      <td>0</td>\n",
       "      <td>0</td>\n",
       "      <td>0</td>\n",
       "      <td>1</td>\n",
       "      <td>20</td>\n",
       "    </tr>\n",
       "    <tr>\n",
       "      <th>819</th>\n",
       "      <td>9</td>\n",
       "      <td>2011</td>\n",
       "      <td>38000</td>\n",
       "      <td>16.09</td>\n",
       "      <td>1598</td>\n",
       "      <td>103.50</td>\n",
       "      <td>5.0</td>\n",
       "      <td>11.91</td>\n",
       "      <td>3.25</td>\n",
       "      <td>0</td>\n",
       "      <td>1</td>\n",
       "      <td>1</td>\n",
       "      <td>0</td>\n",
       "      <td>0</td>\n",
       "      <td>0</td>\n",
       "      <td>0</td>\n",
       "      <td>1</td>\n",
       "      <td>22</td>\n",
       "    </tr>\n",
       "    <tr>\n",
       "      <th>820</th>\n",
       "      <td>10</td>\n",
       "      <td>2016</td>\n",
       "      <td>37208</td>\n",
       "      <td>24.30</td>\n",
       "      <td>1248</td>\n",
       "      <td>88.50</td>\n",
       "      <td>5.0</td>\n",
       "      <td>9.93</td>\n",
       "      <td>7.43</td>\n",
       "      <td>0</td>\n",
       "      <td>1</td>\n",
       "      <td>1</td>\n",
       "      <td>0</td>\n",
       "      <td>0</td>\n",
       "      <td>0</td>\n",
       "      <td>1</td>\n",
       "      <td>0</td>\n",
       "      <td>12</td>\n",
       "    </tr>\n",
       "    <tr>\n",
       "      <th>821</th>\n",
       "      <td>4</td>\n",
       "      <td>2013</td>\n",
       "      <td>33746</td>\n",
       "      <td>18.50</td>\n",
       "      <td>1198</td>\n",
       "      <td>86.80</td>\n",
       "      <td>5.0</td>\n",
       "      <td>6.63</td>\n",
       "      <td>3.20</td>\n",
       "      <td>0</td>\n",
       "      <td>1</td>\n",
       "      <td>1</td>\n",
       "      <td>0</td>\n",
       "      <td>0</td>\n",
       "      <td>0</td>\n",
       "      <td>0</td>\n",
       "      <td>1</td>\n",
       "      <td>5</td>\n",
       "    </tr>\n",
       "    <tr>\n",
       "      <th>822</th>\n",
       "      <td>4</td>\n",
       "      <td>2014</td>\n",
       "      <td>27365</td>\n",
       "      <td>28.40</td>\n",
       "      <td>1248</td>\n",
       "      <td>74.00</td>\n",
       "      <td>5.0</td>\n",
       "      <td>7.88</td>\n",
       "      <td>4.75</td>\n",
       "      <td>0</td>\n",
       "      <td>1</td>\n",
       "      <td>1</td>\n",
       "      <td>0</td>\n",
       "      <td>0</td>\n",
       "      <td>0</td>\n",
       "      <td>1</td>\n",
       "      <td>0</td>\n",
       "      <td>12</td>\n",
       "    </tr>\n",
       "  </tbody>\n",
       "</table>\n",
       "<p>823 rows × 18 columns</p>\n",
       "</div>"
      ],
      "text/plain": [
       "     Location  Year  Kilometers_Driven  Mileage  Engine   Power  Seats  \\\n",
       "0           2  2011              46000    18.20    1199   88.70    5.0   \n",
       "1           9  2016              36000    11.36    2755  171.50    8.0   \n",
       "2           7  2018              25692    21.56    1462  103.25    5.0   \n",
       "3           4  2014             110000    13.50    2477  175.56    7.0   \n",
       "4           7  2014              32982    22.69    1995  190.00    5.0   \n",
       "..        ...   ...                ...      ...     ...     ...    ...   \n",
       "818         2  2016              10000    17.57    1193   88.70    5.0   \n",
       "819         9  2011              38000    16.09    1598  103.50    5.0   \n",
       "820        10  2016              37208    24.30    1248   88.50    5.0   \n",
       "821         4  2013              33746    18.50    1198   86.80    5.0   \n",
       "822         4  2014              27365    28.40    1248   74.00    5.0   \n",
       "\n",
       "     New_Price  Price  Transmission_Automatic  Transmission_Manual  \\\n",
       "0         8.61   4.50                       0                    1   \n",
       "1        21.00  17.50                       1                    0   \n",
       "2        10.65   9.95                       0                    1   \n",
       "3        32.01  15.00                       0                    1   \n",
       "4        47.87  18.55                       1                    0   \n",
       "..         ...    ...                     ...                  ...   \n",
       "818       7.77   4.00                       0                    1   \n",
       "819      11.91   3.25                       0                    1   \n",
       "820       9.93   7.43                       0                    1   \n",
       "821       6.63   3.20                       0                    1   \n",
       "822       7.88   4.75                       0                    1   \n",
       "\n",
       "     Owner_Type_First  Owner_Type_Second  Owner_Type_Third  Fuel_Type_CNG  \\\n",
       "0                   1                  0                 0              0   \n",
       "1                   1                  0                 0              0   \n",
       "2                   1                  0                 0              0   \n",
       "3                   1                  0                 0              0   \n",
       "4                   1                  0                 0              0   \n",
       "..                ...                ...               ...            ...   \n",
       "818                 1                  0                 0              0   \n",
       "819                 1                  0                 0              0   \n",
       "820                 1                  0                 0              0   \n",
       "821                 1                  0                 0              0   \n",
       "822                 1                  0                 0              0   \n",
       "\n",
       "     Fuel_Type_Diesel  Fuel_Type_Petrol  Brand  \n",
       "0                   0                 1      5  \n",
       "1                   1                 0     21  \n",
       "2                   0                 1     12  \n",
       "3                   1                 0     15  \n",
       "4                   1                 0      1  \n",
       "..                ...               ...    ...  \n",
       "818                 0                 1     20  \n",
       "819                 0                 1     22  \n",
       "820                 1                 0     12  \n",
       "821                 0                 1      5  \n",
       "822                 1                 0     12  \n",
       "\n",
       "[823 rows x 18 columns]"
      ]
     },
     "execution_count": 46,
     "metadata": {},
     "output_type": "execute_result"
    }
   ],
   "source": [
    "df1"
   ]
  },
  {
   "cell_type": "code",
   "execution_count": 47,
   "id": "b03e8d9c",
   "metadata": {
    "execution": {
     "iopub.execute_input": "2023-12-21T09:18:53.068602Z",
     "iopub.status.busy": "2023-12-21T09:18:53.067967Z",
     "iopub.status.idle": "2023-12-21T09:18:53.081374Z",
     "shell.execute_reply": "2023-12-21T09:18:53.080163Z"
    },
    "papermill": {
     "duration": 0.052734,
     "end_time": "2023-12-21T09:18:53.084364",
     "exception": false,
     "start_time": "2023-12-21T09:18:53.031630",
     "status": "completed"
    },
    "tags": []
   },
   "outputs": [
    {
     "name": "stdout",
     "output_type": "stream",
     "text": [
      "Most important features relative to Price-target\n",
      "Price                     1.000000\n",
      "New_Price                 0.903636\n",
      "Power                     0.777187\n",
      "Engine                    0.696675\n",
      "Transmission_Automatic    0.544773\n",
      "Fuel_Type_Diesel          0.323575\n",
      "Year                      0.227202\n",
      "Seats                     0.046168\n",
      "Owner_Type_First          0.042898\n",
      "Owner_Type_Second        -0.032502\n",
      "Location                 -0.038807\n",
      "Owner_Type_Third         -0.047505\n",
      "Fuel_Type_CNG            -0.071366\n",
      "Brand                    -0.112230\n",
      "Kilometers_Driven        -0.154463\n",
      "Fuel_Type_Petrol         -0.309283\n",
      "Mileage                  -0.433571\n",
      "Transmission_Manual      -0.544773\n",
      "Name: Price, dtype: float64\n"
     ]
    }
   ],
   "source": [
    "print(\"Most important features relative to Price-target\")\n",
    "numeric_vals = df1.select_dtypes(include=['number'])\n",
    "numeric_corr = numeric_vals.corr()\n",
    "numeric_corr.sort_values([\"Price\"], ascending = False, inplace = True)\n",
    "print(numeric_corr.Price)"
   ]
  },
  {
   "cell_type": "markdown",
   "id": "f4fd6b49",
   "metadata": {
    "papermill": {
     "duration": 0.034253,
     "end_time": "2023-12-21T09:18:53.153959",
     "exception": false,
     "start_time": "2023-12-21T09:18:53.119706",
     "status": "completed"
    },
    "tags": []
   },
   "source": [
    "# Building a machine learning model"
   ]
  },
  {
   "cell_type": "markdown",
   "id": "c4a54683",
   "metadata": {
    "papermill": {
     "duration": 0.036119,
     "end_time": "2023-12-21T09:18:53.224597",
     "exception": false,
     "start_time": "2023-12-21T09:18:53.188478",
     "status": "completed"
    },
    "tags": []
   },
   "source": [
    "## Train Test Split"
   ]
  },
  {
   "cell_type": "code",
   "execution_count": 48,
   "id": "defb66e0",
   "metadata": {
    "execution": {
     "iopub.execute_input": "2023-12-21T09:18:53.298904Z",
     "iopub.status.busy": "2023-12-21T09:18:53.298370Z",
     "iopub.status.idle": "2023-12-21T09:18:53.310005Z",
     "shell.execute_reply": "2023-12-21T09:18:53.308497Z"
    },
    "papermill": {
     "duration": 0.051168,
     "end_time": "2023-12-21T09:18:53.312811",
     "exception": false,
     "start_time": "2023-12-21T09:18:53.261643",
     "status": "completed"
    },
    "tags": []
   },
   "outputs": [],
   "source": [
    "df1.dropna(how='any', inplace=True,axis = 0)\n",
    "tdf1.dropna(how='any', inplace=True,axis = 0)"
   ]
  },
  {
   "cell_type": "code",
   "execution_count": 49,
   "id": "66dd9547",
   "metadata": {
    "execution": {
     "iopub.execute_input": "2023-12-21T09:18:53.386907Z",
     "iopub.status.busy": "2023-12-21T09:18:53.386363Z",
     "iopub.status.idle": "2023-12-21T09:18:53.394113Z",
     "shell.execute_reply": "2023-12-21T09:18:53.393087Z"
    },
    "papermill": {
     "duration": 0.047924,
     "end_time": "2023-12-21T09:18:53.396584",
     "exception": false,
     "start_time": "2023-12-21T09:18:53.348660",
     "status": "completed"
    },
    "tags": []
   },
   "outputs": [],
   "source": [
    "X = df1.drop([\"Price\"], axis=1)\n",
    "X = X.values\n",
    "y = df1['Price'].values"
   ]
  },
  {
   "cell_type": "code",
   "execution_count": 50,
   "id": "9a61a5e4",
   "metadata": {
    "execution": {
     "iopub.execute_input": "2023-12-21T09:18:53.469337Z",
     "iopub.status.busy": "2023-12-21T09:18:53.468772Z",
     "iopub.status.idle": "2023-12-21T09:18:53.773132Z",
     "shell.execute_reply": "2023-12-21T09:18:53.771734Z"
    },
    "papermill": {
     "duration": 0.34425,
     "end_time": "2023-12-21T09:18:53.776376",
     "exception": false,
     "start_time": "2023-12-21T09:18:53.432126",
     "status": "completed"
    },
    "tags": []
   },
   "outputs": [],
   "source": [
    "from sklearn.model_selection import train_test_split\n",
    "X_train, X_test, y_train, y_test = train_test_split(\n",
    "    X, y, test_size=0.2, shuffle=True)"
   ]
  },
  {
   "cell_type": "code",
   "execution_count": 51,
   "id": "8669afc5",
   "metadata": {
    "execution": {
     "iopub.execute_input": "2023-12-21T09:18:53.849633Z",
     "iopub.status.busy": "2023-12-21T09:18:53.849150Z",
     "iopub.status.idle": "2023-12-21T09:18:53.855337Z",
     "shell.execute_reply": "2023-12-21T09:18:53.854014Z"
    },
    "papermill": {
     "duration": 0.045678,
     "end_time": "2023-12-21T09:18:53.858343",
     "exception": false,
     "start_time": "2023-12-21T09:18:53.812665",
     "status": "completed"
    },
    "tags": []
   },
   "outputs": [
    {
     "name": "stdout",
     "output_type": "stream",
     "text": [
      "(644, 17)\n",
      "(162, 17)\n"
     ]
    }
   ],
   "source": [
    "print(X_train.shape)\n",
    "print(X_test.shape)"
   ]
  },
  {
   "cell_type": "markdown",
   "id": "cc922b9a",
   "metadata": {
    "papermill": {
     "duration": 0.035491,
     "end_time": "2023-12-21T09:18:53.929735",
     "exception": false,
     "start_time": "2023-12-21T09:18:53.894244",
     "status": "completed"
    },
    "tags": []
   },
   "source": [
    "## Standardization"
   ]
  },
  {
   "cell_type": "code",
   "execution_count": 52,
   "id": "18a09649",
   "metadata": {
    "execution": {
     "iopub.execute_input": "2023-12-21T09:18:54.001876Z",
     "iopub.status.busy": "2023-12-21T09:18:54.001364Z",
     "iopub.status.idle": "2023-12-21T09:18:54.010042Z",
     "shell.execute_reply": "2023-12-21T09:18:54.008687Z"
    },
    "papermill": {
     "duration": 0.048283,
     "end_time": "2023-12-21T09:18:54.012621",
     "exception": false,
     "start_time": "2023-12-21T09:18:53.964338",
     "status": "completed"
    },
    "tags": []
   },
   "outputs": [],
   "source": [
    "from sklearn.preprocessing import StandardScaler\n",
    "scaler = StandardScaler()\n",
    "X_train = scaler.fit_transform(X_train)\n",
    "X_test = scaler.transform(X_test)"
   ]
  },
  {
   "cell_type": "markdown",
   "id": "2dec70d1",
   "metadata": {
    "papermill": {
     "duration": 0.041124,
     "end_time": "2023-12-21T09:18:54.088639",
     "exception": false,
     "start_time": "2023-12-21T09:18:54.047515",
     "status": "completed"
    },
    "tags": []
   },
   "source": [
    "# Machine Learning"
   ]
  },
  {
   "cell_type": "code",
   "execution_count": 53,
   "id": "57b4fd51",
   "metadata": {
    "execution": {
     "iopub.execute_input": "2023-12-21T09:18:54.161504Z",
     "iopub.status.busy": "2023-12-21T09:18:54.161062Z",
     "iopub.status.idle": "2023-12-21T09:18:54.672977Z",
     "shell.execute_reply": "2023-12-21T09:18:54.671791Z"
    },
    "papermill": {
     "duration": 0.551955,
     "end_time": "2023-12-21T09:18:54.676122",
     "exception": false,
     "start_time": "2023-12-21T09:18:54.124167",
     "status": "completed"
    },
    "tags": []
   },
   "outputs": [],
   "source": [
    "from sklearn.linear_model import LinearRegression\n",
    "from sklearn.tree import DecisionTreeClassifier\n",
    "from sklearn.tree import DecisionTreeRegressor\n",
    "from sklearn.ensemble import RandomForestClassifier\n",
    "from sklearn.ensemble import RandomForestRegressor\n",
    "from xgboost import XGBClassifier\n",
    "from xgboost.sklearn import XGBRegressor\n",
    "from sklearn.ensemble import GradientBoostingRegressor\n",
    "from sklearn.ensemble import GradientBoostingRegressor\n",
    "from sklearn import metrics\n",
    "import math"
   ]
  },
  {
   "cell_type": "code",
   "execution_count": 54,
   "id": "e6c148a4",
   "metadata": {
    "execution": {
     "iopub.execute_input": "2023-12-21T09:18:54.750519Z",
     "iopub.status.busy": "2023-12-21T09:18:54.750085Z",
     "iopub.status.idle": "2023-12-21T09:18:56.567725Z",
     "shell.execute_reply": "2023-12-21T09:18:56.566743Z"
    },
    "papermill": {
     "duration": 1.857981,
     "end_time": "2023-12-21T09:18:56.570544",
     "exception": false,
     "start_time": "2023-12-21T09:18:54.712563",
     "status": "completed"
    },
    "tags": []
   },
   "outputs": [
    {
     "name": "stdout",
     "output_type": "stream",
     "text": [
      "Accuracy: \n",
      "                        Model  AccuracyTraining  AccuracyTesting\n",
      "0       MultiLinearRegressor          0.906372         0.916023\n",
      "1      DecisionTreeRegressor          1.000000         0.932031\n",
      "2      RandomForestRegressor          0.991736         0.962471\n",
      "3  GradientBoostingRegressor          0.992742         0.971672\n",
      "4               XGBRegressor          0.999974         0.960301\n",
      "Error: \n",
      "                        Model  MeanSqauredError  RootMeanSquareError  \\\n",
      "0       MultiLinearRegressor         13.394159             3.659803   \n",
      "1      DecisionTreeRegressor         10.840854             3.292545   \n",
      "2      RandomForestRegressor          5.985806             2.446591   \n",
      "3  GradientBoostingRegressor          4.518275             2.125623   \n",
      "4               XGBRegressor          6.331906             2.516328   \n",
      "\n",
      "   MeanAbsoluteError  \n",
      "0           2.425743  \n",
      "1           1.649568  \n",
      "2           1.256302  \n",
      "3           1.258710  \n",
      "4           1.269868  \n"
     ]
    }
   ],
   "source": [
    "#Comparing accuracy of models which we could have used\n",
    "regressors = [\n",
    "    ['MultiLinearRegressor', LinearRegression()],\n",
    "    ['DecisionTreeRegressor', DecisionTreeRegressor()],\n",
    "    ['RandomForestRegressor', RandomForestRegressor()],\n",
    "    ['GradientBoostingRegressor', GradientBoostingRegressor()],\n",
    "    ['XGBRegressor', XGBRegressor()]\n",
    "]\n",
    "\n",
    "resultsacc1 = []\n",
    "resultsacc2 = []\n",
    "\n",
    "for model in regressors:\n",
    "    name = model[0]\n",
    "    mod = model[1]\n",
    "    \n",
    "    mod.fit(X_train, y_train)\n",
    "    y_pred = mod.predict(X_test)\n",
    "    \n",
    "    #Errors Metrics\n",
    "    mse = metrics.mean_squared_error(y_pred,y_test)\n",
    "    rmse = math.sqrt(mse)\n",
    "    mae = metrics.mean_absolute_error(y_pred,y_test)\n",
    "    \n",
    "    #Accuracy Metrics\n",
    "    RMSE = np.sqrt(metrics.mean_squared_error(y_test, y_pred))\n",
    "    acctrs = mod.score(X_train, y_train)\n",
    "    acctes = mod.score(X_test, y_test)\n",
    "    \n",
    "    resultsacc1.append({'Model': name, 'AccuracyTraining': acctrs, 'AccuracyTesting': acctes})\n",
    "    resultsacc2.append({'Model': name, 'MeanSqauredError': mse, 'RootMeanSquareError': rmse, 'MeanAbsoluteError': mae})\n",
    "    \n",
    "results1_df = pd.DataFrame(resultsacc1)\n",
    "results2_df = pd.DataFrame(resultsacc2)\n",
    "\n",
    "\n",
    "print(\"Accuracy: \\n\",results1_df)\n",
    "print(\"Error: \\n\",results2_df)"
   ]
  },
  {
   "cell_type": "markdown",
   "id": "5aaaaa14",
   "metadata": {
    "papermill": {
     "duration": 0.052035,
     "end_time": "2023-12-21T09:18:56.670344",
     "exception": false,
     "start_time": "2023-12-21T09:18:56.618309",
     "status": "completed"
    },
    "tags": []
   },
   "source": [
    "## Pick the top three regressors\n",
    "The above comparision makes the inference that XGBRegressor,RandomForestRegressor,GradientBoostingRegressor are more accurate in training and testing."
   ]
  },
  {
   "cell_type": "code",
   "execution_count": 55,
   "id": "429581c2",
   "metadata": {
    "execution": {
     "iopub.execute_input": "2023-12-21T09:18:56.745734Z",
     "iopub.status.busy": "2023-12-21T09:18:56.744504Z",
     "iopub.status.idle": "2023-12-21T09:18:56.751176Z",
     "shell.execute_reply": "2023-12-21T09:18:56.750087Z"
    },
    "papermill": {
     "duration": 0.046915,
     "end_time": "2023-12-21T09:18:56.753787",
     "exception": false,
     "start_time": "2023-12-21T09:18:56.706872",
     "status": "completed"
    },
    "tags": []
   },
   "outputs": [],
   "source": [
    "model_XGB = XGBRegressor(n_estimators=1000)\n",
    "model_RF = RandomForestRegressor(n_estimators=1000)\n",
    "model_GB = GradientBoostingRegressor(n_estimators=1000)"
   ]
  },
  {
   "cell_type": "code",
   "execution_count": 56,
   "id": "b6677162",
   "metadata": {
    "execution": {
     "iopub.execute_input": "2023-12-21T09:18:56.826024Z",
     "iopub.status.busy": "2023-12-21T09:18:56.825274Z",
     "iopub.status.idle": "2023-12-21T09:19:03.528226Z",
     "shell.execute_reply": "2023-12-21T09:19:03.526795Z"
    },
    "papermill": {
     "duration": 6.742488,
     "end_time": "2023-12-21T09:19:03.531222",
     "exception": false,
     "start_time": "2023-12-21T09:18:56.788734",
     "status": "completed"
    },
    "tags": []
   },
   "outputs": [
    {
     "data": {
      "text/html": [
       "<style>#sk-container-id-1 {color: black;background-color: white;}#sk-container-id-1 pre{padding: 0;}#sk-container-id-1 div.sk-toggleable {background-color: white;}#sk-container-id-1 label.sk-toggleable__label {cursor: pointer;display: block;width: 100%;margin-bottom: 0;padding: 0.3em;box-sizing: border-box;text-align: center;}#sk-container-id-1 label.sk-toggleable__label-arrow:before {content: \"▸\";float: left;margin-right: 0.25em;color: #696969;}#sk-container-id-1 label.sk-toggleable__label-arrow:hover:before {color: black;}#sk-container-id-1 div.sk-estimator:hover label.sk-toggleable__label-arrow:before {color: black;}#sk-container-id-1 div.sk-toggleable__content {max-height: 0;max-width: 0;overflow: hidden;text-align: left;background-color: #f0f8ff;}#sk-container-id-1 div.sk-toggleable__content pre {margin: 0.2em;color: black;border-radius: 0.25em;background-color: #f0f8ff;}#sk-container-id-1 input.sk-toggleable__control:checked~div.sk-toggleable__content {max-height: 200px;max-width: 100%;overflow: auto;}#sk-container-id-1 input.sk-toggleable__control:checked~label.sk-toggleable__label-arrow:before {content: \"▾\";}#sk-container-id-1 div.sk-estimator input.sk-toggleable__control:checked~label.sk-toggleable__label {background-color: #d4ebff;}#sk-container-id-1 div.sk-label input.sk-toggleable__control:checked~label.sk-toggleable__label {background-color: #d4ebff;}#sk-container-id-1 input.sk-hidden--visually {border: 0;clip: rect(1px 1px 1px 1px);clip: rect(1px, 1px, 1px, 1px);height: 1px;margin: -1px;overflow: hidden;padding: 0;position: absolute;width: 1px;}#sk-container-id-1 div.sk-estimator {font-family: monospace;background-color: #f0f8ff;border: 1px dotted black;border-radius: 0.25em;box-sizing: border-box;margin-bottom: 0.5em;}#sk-container-id-1 div.sk-estimator:hover {background-color: #d4ebff;}#sk-container-id-1 div.sk-parallel-item::after {content: \"\";width: 100%;border-bottom: 1px solid gray;flex-grow: 1;}#sk-container-id-1 div.sk-label:hover label.sk-toggleable__label {background-color: #d4ebff;}#sk-container-id-1 div.sk-serial::before {content: \"\";position: absolute;border-left: 1px solid gray;box-sizing: border-box;top: 0;bottom: 0;left: 50%;z-index: 0;}#sk-container-id-1 div.sk-serial {display: flex;flex-direction: column;align-items: center;background-color: white;padding-right: 0.2em;padding-left: 0.2em;position: relative;}#sk-container-id-1 div.sk-item {position: relative;z-index: 1;}#sk-container-id-1 div.sk-parallel {display: flex;align-items: stretch;justify-content: center;background-color: white;position: relative;}#sk-container-id-1 div.sk-item::before, #sk-container-id-1 div.sk-parallel-item::before {content: \"\";position: absolute;border-left: 1px solid gray;box-sizing: border-box;top: 0;bottom: 0;left: 50%;z-index: -1;}#sk-container-id-1 div.sk-parallel-item {display: flex;flex-direction: column;z-index: 1;position: relative;background-color: white;}#sk-container-id-1 div.sk-parallel-item:first-child::after {align-self: flex-end;width: 50%;}#sk-container-id-1 div.sk-parallel-item:last-child::after {align-self: flex-start;width: 50%;}#sk-container-id-1 div.sk-parallel-item:only-child::after {width: 0;}#sk-container-id-1 div.sk-dashed-wrapped {border: 1px dashed gray;margin: 0 0.4em 0.5em 0.4em;box-sizing: border-box;padding-bottom: 0.4em;background-color: white;}#sk-container-id-1 div.sk-label label {font-family: monospace;font-weight: bold;display: inline-block;line-height: 1.2em;}#sk-container-id-1 div.sk-label-container {text-align: center;}#sk-container-id-1 div.sk-container {/* jupyter's `normalize.less` sets `[hidden] { display: none; }` but bootstrap.min.css set `[hidden] { display: none !important; }` so we also need the `!important` here to be able to override the default hidden behavior on the sphinx rendered scikit-learn.org. See: https://github.com/scikit-learn/scikit-learn/issues/21755 */display: inline-block !important;position: relative;}#sk-container-id-1 div.sk-text-repr-fallback {display: none;}</style><div id=\"sk-container-id-1\" class=\"sk-top-container\"><div class=\"sk-text-repr-fallback\"><pre>GradientBoostingRegressor(n_estimators=1000)</pre><b>In a Jupyter environment, please rerun this cell to show the HTML representation or trust the notebook. <br />On GitHub, the HTML representation is unable to render, please try loading this page with nbviewer.org.</b></div><div class=\"sk-container\" hidden><div class=\"sk-item\"><div class=\"sk-estimator sk-toggleable\"><input class=\"sk-toggleable__control sk-hidden--visually\" id=\"sk-estimator-id-1\" type=\"checkbox\" checked><label for=\"sk-estimator-id-1\" class=\"sk-toggleable__label sk-toggleable__label-arrow\">GradientBoostingRegressor</label><div class=\"sk-toggleable__content\"><pre>GradientBoostingRegressor(n_estimators=1000)</pre></div></div></div></div></div>"
      ],
      "text/plain": [
       "GradientBoostingRegressor(n_estimators=1000)"
      ]
     },
     "execution_count": 56,
     "metadata": {},
     "output_type": "execute_result"
    }
   ],
   "source": [
    "model_XGB.fit(X_train, y_train)\n",
    "model_RF.fit(X_train, y_train)\n",
    "model_GB.fit(X_train, y_train)"
   ]
  },
  {
   "cell_type": "code",
   "execution_count": 57,
   "id": "f44bc634",
   "metadata": {
    "execution": {
     "iopub.execute_input": "2023-12-21T09:19:03.609759Z",
     "iopub.status.busy": "2023-12-21T09:19:03.609285Z",
     "iopub.status.idle": "2023-12-21T09:19:03.700843Z",
     "shell.execute_reply": "2023-12-21T09:19:03.699511Z"
    },
    "papermill": {
     "duration": 0.134607,
     "end_time": "2023-12-21T09:19:03.703897",
     "exception": false,
     "start_time": "2023-12-21T09:19:03.569290",
     "status": "completed"
    },
    "tags": []
   },
   "outputs": [],
   "source": [
    "y_pred_XGB = model_XGB.predict(X_test)\n",
    "y_pred_RF = model_RF.predict(X_test)\n",
    "y_pred_GB = model_GB.predict(X_test)"
   ]
  },
  {
   "cell_type": "markdown",
   "id": "48ca51ac",
   "metadata": {
    "papermill": {
     "duration": 0.035969,
     "end_time": "2023-12-21T09:19:03.775865",
     "exception": false,
     "start_time": "2023-12-21T09:19:03.739896",
     "status": "completed"
    },
    "tags": []
   },
   "source": [
    "## Obtaining the mse, rmse, and mae of each regressors"
   ]
  },
  {
   "cell_type": "code",
   "execution_count": 58,
   "id": "66f3f4c7",
   "metadata": {
    "execution": {
     "iopub.execute_input": "2023-12-21T09:19:03.849737Z",
     "iopub.status.busy": "2023-12-21T09:19:03.849285Z",
     "iopub.status.idle": "2023-12-21T09:19:03.871632Z",
     "shell.execute_reply": "2023-12-21T09:19:03.870394Z"
    },
    "papermill": {
     "duration": 0.062168,
     "end_time": "2023-12-21T09:19:03.874495",
     "exception": false,
     "start_time": "2023-12-21T09:19:03.812327",
     "status": "completed"
    },
    "tags": []
   },
   "outputs": [
    {
     "data": {
      "text/html": [
       "<div>\n",
       "<style scoped>\n",
       "    .dataframe tbody tr th:only-of-type {\n",
       "        vertical-align: middle;\n",
       "    }\n",
       "\n",
       "    .dataframe tbody tr th {\n",
       "        vertical-align: top;\n",
       "    }\n",
       "\n",
       "    .dataframe thead th {\n",
       "        text-align: right;\n",
       "    }\n",
       "</style>\n",
       "<table border=\"1\" class=\"dataframe\">\n",
       "  <thead>\n",
       "    <tr style=\"text-align: right;\">\n",
       "      <th></th>\n",
       "      <th>Type of Error</th>\n",
       "      <th>Value of Error</th>\n",
       "    </tr>\n",
       "  </thead>\n",
       "  <tbody>\n",
       "    <tr>\n",
       "      <th>0</th>\n",
       "      <td>Mean Squared Error for XGB</td>\n",
       "      <td>6.323464</td>\n",
       "    </tr>\n",
       "    <tr>\n",
       "      <th>1</th>\n",
       "      <td>Root Mean Squared Error for XGB</td>\n",
       "      <td>2.514650</td>\n",
       "    </tr>\n",
       "    <tr>\n",
       "      <th>2</th>\n",
       "      <td>Mean Absolute Error for XGB</td>\n",
       "      <td>1.267700</td>\n",
       "    </tr>\n",
       "    <tr>\n",
       "      <th>3</th>\n",
       "      <td>Mean Squared Error for RF</td>\n",
       "      <td>6.173517</td>\n",
       "    </tr>\n",
       "    <tr>\n",
       "      <th>4</th>\n",
       "      <td>Root Mean Squared Error for RF</td>\n",
       "      <td>2.484656</td>\n",
       "    </tr>\n",
       "    <tr>\n",
       "      <th>5</th>\n",
       "      <td>Mean Absolute Error for RF</td>\n",
       "      <td>1.284084</td>\n",
       "    </tr>\n",
       "    <tr>\n",
       "      <th>6</th>\n",
       "      <td>Mean Squared Error for GB</td>\n",
       "      <td>4.157811</td>\n",
       "    </tr>\n",
       "    <tr>\n",
       "      <th>7</th>\n",
       "      <td>Root Mean Squared Error for GB</td>\n",
       "      <td>2.039071</td>\n",
       "    </tr>\n",
       "    <tr>\n",
       "      <th>8</th>\n",
       "      <td>Mean Absolute Error for GB</td>\n",
       "      <td>1.134698</td>\n",
       "    </tr>\n",
       "  </tbody>\n",
       "</table>\n",
       "</div>"
      ],
      "text/plain": [
       "                     Type of Error  Value of Error\n",
       "0       Mean Squared Error for XGB        6.323464\n",
       "1  Root Mean Squared Error for XGB        2.514650\n",
       "2      Mean Absolute Error for XGB        1.267700\n",
       "3        Mean Squared Error for RF        6.173517\n",
       "4   Root Mean Squared Error for RF        2.484656\n",
       "5       Mean Absolute Error for RF        1.284084\n",
       "6        Mean Squared Error for GB        4.157811\n",
       "7   Root Mean Squared Error for GB        2.039071\n",
       "8       Mean Absolute Error for GB        1.134698"
      ]
     },
     "execution_count": 58,
     "metadata": {},
     "output_type": "execute_result"
    }
   ],
   "source": [
    "import math\n",
    "mse1 = metrics.mean_squared_error(y_pred_XGB,y_test)\n",
    "mse2 = metrics.mean_squared_error(y_pred_RF,y_test)\n",
    "mse3 = metrics.mean_squared_error(y_pred_GB,y_test)\n",
    "rmse1 = math.sqrt(mse1)\n",
    "rmse2 = math.sqrt(mse2)\n",
    "rmse3 = math.sqrt(mse3)\n",
    "mae1 = metrics.mean_absolute_error(y_pred_XGB,y_test)\n",
    "mae2 = metrics.mean_absolute_error(y_pred_RF,y_test)\n",
    "mae3 = metrics.mean_absolute_error(y_pred_GB,y_test)\n",
    "vals = {\n",
    "    'Type of Error': ['Mean Squared Error for XGB', 'Root Mean Squared Error for XGB', 'Mean Absolute Error for XGB',\n",
    "                      'Mean Squared Error for RF', 'Root Mean Squared Error for RF', 'Mean Absolute Error for RF',\n",
    "                      'Mean Squared Error for GB', 'Root Mean Squared Error for GB', 'Mean Absolute Error for GB'],\n",
    "    'Value of Error': [mse1, rmse1, mae1,mse2, rmse2, mae2,mse3, rmse3, mae3]\n",
    "}\n",
    "pd.DataFrame(vals)"
   ]
  },
  {
   "cell_type": "markdown",
   "id": "66b8927a",
   "metadata": {
    "papermill": {
     "duration": 0.038599,
     "end_time": "2023-12-21T09:19:03.949936",
     "exception": false,
     "start_time": "2023-12-21T09:19:03.911337",
     "status": "completed"
    },
    "tags": []
   },
   "source": [
    "## Plot out the results!"
   ]
  },
  {
   "cell_type": "code",
   "execution_count": 59,
   "id": "2092293b",
   "metadata": {
    "execution": {
     "iopub.execute_input": "2023-12-21T09:19:04.027244Z",
     "iopub.status.busy": "2023-12-21T09:19:04.026746Z",
     "iopub.status.idle": "2023-12-21T09:19:04.508528Z",
     "shell.execute_reply": "2023-12-21T09:19:04.507209Z"
    },
    "papermill": {
     "duration": 0.524207,
     "end_time": "2023-12-21T09:19:04.511833",
     "exception": false,
     "start_time": "2023-12-21T09:19:03.987626",
     "status": "completed"
    },
    "tags": []
   },
   "outputs": [
    {
     "data": {
      "image/png": "[encoded data removed]",
      "text/plain": [
       "<Figure size 640x480 with 1 Axes>"
      ]
     },
     "metadata": {},
     "output_type": "display_data"
    }
   ],
   "source": [
    "plt.scatter(y_test, y_test, color=\"b\", label='True Values')\n",
    "plt.scatter(y_test, y_pred_XGB, color=\"r\", label='Predicted Values XGB')\n",
    "plt.scatter(y_test, y_pred_RF, color=\"y\", label='Predicted Values RF')\n",
    "plt.scatter(y_test, y_pred_GB, color=\"g\", label='Predicted Values GB')\n",
    "plt.xlabel(\"True Values (y_test)\")\n",
    "plt.ylabel(\"Predicted Values (y_pred)\")\n",
    "plt.title(\"True vs. Predicted Values (Regression)\")\n",
    "\n",
    "# Create a legend to label the points\n",
    "plt.legend()\n",
    "plt.show()"
   ]
  },
  {
   "cell_type": "markdown",
   "id": "8eab4425",
   "metadata": {
    "papermill": {
     "duration": 0.037536,
     "end_time": "2023-12-21T09:19:04.586910",
     "exception": false,
     "start_time": "2023-12-21T09:19:04.549374",
     "status": "completed"
    },
    "tags": []
   },
   "source": [
    "# Predict using test-data"
   ]
  },
  {
   "cell_type": "markdown",
   "id": "569f9063",
   "metadata": {
    "papermill": {
     "duration": 0.035876,
     "end_time": "2023-12-21T09:19:04.660093",
     "exception": false,
     "start_time": "2023-12-21T09:19:04.624217",
     "status": "completed"
    },
    "tags": []
   },
   "source": [
    "## Prepare dataset for machine learning"
   ]
  },
  {
   "cell_type": "code",
   "execution_count": 60,
   "id": "4171bdbc",
   "metadata": {
    "execution": {
     "iopub.execute_input": "2023-12-21T09:19:04.735217Z",
     "iopub.status.busy": "2023-12-21T09:19:04.734742Z",
     "iopub.status.idle": "2023-12-21T09:19:04.756277Z",
     "shell.execute_reply": "2023-12-21T09:19:04.755016Z"
    },
    "papermill": {
     "duration": 0.062109,
     "end_time": "2023-12-21T09:19:04.758766",
     "exception": false,
     "start_time": "2023-12-21T09:19:04.696657",
     "status": "completed"
    },
    "tags": []
   },
   "outputs": [
    {
     "data": {
      "text/html": [
       "<div>\n",
       "<style scoped>\n",
       "    .dataframe tbody tr th:only-of-type {\n",
       "        vertical-align: middle;\n",
       "    }\n",
       "\n",
       "    .dataframe tbody tr th {\n",
       "        vertical-align: top;\n",
       "    }\n",
       "\n",
       "    .dataframe thead th {\n",
       "        text-align: right;\n",
       "    }\n",
       "</style>\n",
       "<table border=\"1\" class=\"dataframe\">\n",
       "  <thead>\n",
       "    <tr style=\"text-align: right;\">\n",
       "      <th></th>\n",
       "      <th>Location</th>\n",
       "      <th>Year</th>\n",
       "      <th>Kilometers_Driven</th>\n",
       "      <th>Mileage</th>\n",
       "      <th>Engine</th>\n",
       "      <th>Power</th>\n",
       "      <th>Seats</th>\n",
       "      <th>New_Price</th>\n",
       "      <th>Transmission_Automatic</th>\n",
       "      <th>Transmission_Manual</th>\n",
       "      <th>Owner_Type_First</th>\n",
       "      <th>Owner_Type_Second</th>\n",
       "      <th>Fuel_Type_CNG</th>\n",
       "      <th>Fuel_Type_Diesel</th>\n",
       "      <th>Fuel_Type_Petrol</th>\n",
       "      <th>Brand</th>\n",
       "    </tr>\n",
       "  </thead>\n",
       "  <tbody>\n",
       "    <tr>\n",
       "      <th>0</th>\n",
       "      <td>9</td>\n",
       "      <td>2017</td>\n",
       "      <td>34000</td>\n",
       "      <td>13.68</td>\n",
       "      <td>2393</td>\n",
       "      <td>147.80</td>\n",
       "      <td>7.0</td>\n",
       "      <td>25.27</td>\n",
       "      <td>0</td>\n",
       "      <td>1</td>\n",
       "      <td>1</td>\n",
       "      <td>0</td>\n",
       "      <td>0</td>\n",
       "      <td>1</td>\n",
       "      <td>0</td>\n",
       "      <td>21.0</td>\n",
       "    </tr>\n",
       "    <tr>\n",
       "      <th>1</th>\n",
       "      <td>2</td>\n",
       "      <td>2014</td>\n",
       "      <td>70000</td>\n",
       "      <td>23.59</td>\n",
       "      <td>1364</td>\n",
       "      <td>67.06</td>\n",
       "      <td>5.0</td>\n",
       "      <td>9.27</td>\n",
       "      <td>0</td>\n",
       "      <td>1</td>\n",
       "      <td>0</td>\n",
       "      <td>1</td>\n",
       "      <td>0</td>\n",
       "      <td>1</td>\n",
       "      <td>0</td>\n",
       "      <td>21.0</td>\n",
       "    </tr>\n",
       "    <tr>\n",
       "      <th>2</th>\n",
       "      <td>9</td>\n",
       "      <td>2017</td>\n",
       "      <td>13500</td>\n",
       "      <td>14.84</td>\n",
       "      <td>1598</td>\n",
       "      <td>103.52</td>\n",
       "      <td>5.0</td>\n",
       "      <td>14.95</td>\n",
       "      <td>1</td>\n",
       "      <td>0</td>\n",
       "      <td>1</td>\n",
       "      <td>0</td>\n",
       "      <td>0</td>\n",
       "      <td>0</td>\n",
       "      <td>1</td>\n",
       "      <td>19.0</td>\n",
       "    </tr>\n",
       "    <tr>\n",
       "      <th>3</th>\n",
       "      <td>9</td>\n",
       "      <td>2012</td>\n",
       "      <td>66889</td>\n",
       "      <td>22.48</td>\n",
       "      <td>1995</td>\n",
       "      <td>190.00</td>\n",
       "      <td>5.0</td>\n",
       "      <td>70.43</td>\n",
       "      <td>1</td>\n",
       "      <td>0</td>\n",
       "      <td>1</td>\n",
       "      <td>0</td>\n",
       "      <td>0</td>\n",
       "      <td>1</td>\n",
       "      <td>0</td>\n",
       "      <td>1.0</td>\n",
       "    </tr>\n",
       "    <tr>\n",
       "      <th>4</th>\n",
       "      <td>6</td>\n",
       "      <td>2018</td>\n",
       "      <td>4000</td>\n",
       "      <td>15.41</td>\n",
       "      <td>1598</td>\n",
       "      <td>103.52</td>\n",
       "      <td>5.0</td>\n",
       "      <td>11.89</td>\n",
       "      <td>0</td>\n",
       "      <td>1</td>\n",
       "      <td>1</td>\n",
       "      <td>0</td>\n",
       "      <td>0</td>\n",
       "      <td>0</td>\n",
       "      <td>1</td>\n",
       "      <td>19.0</td>\n",
       "    </tr>\n",
       "  </tbody>\n",
       "</table>\n",
       "</div>"
      ],
      "text/plain": [
       "   Location  Year  Kilometers_Driven  Mileage  Engine   Power  Seats  \\\n",
       "0         9  2017              34000    13.68    2393  147.80    7.0   \n",
       "1         2  2014              70000    23.59    1364   67.06    5.0   \n",
       "2         9  2017              13500    14.84    1598  103.52    5.0   \n",
       "3         9  2012              66889    22.48    1995  190.00    5.0   \n",
       "4         6  2018               4000    15.41    1598  103.52    5.0   \n",
       "\n",
       "   New_Price  Transmission_Automatic  Transmission_Manual  Owner_Type_First  \\\n",
       "0      25.27                       0                    1                 1   \n",
       "1       9.27                       0                    1                 0   \n",
       "2      14.95                       1                    0                 1   \n",
       "3      70.43                       1                    0                 1   \n",
       "4      11.89                       0                    1                 1   \n",
       "\n",
       "   Owner_Type_Second  Fuel_Type_CNG  Fuel_Type_Diesel  Fuel_Type_Petrol  Brand  \n",
       "0                  0              0                 1                 0   21.0  \n",
       "1                  1              0                 1                 0   21.0  \n",
       "2                  0              0                 0                 1   19.0  \n",
       "3                  0              0                 1                 0    1.0  \n",
       "4                  0              0                 0                 1   19.0  "
      ]
     },
     "execution_count": 60,
     "metadata": {},
     "output_type": "execute_result"
    }
   ],
   "source": [
    "tdf1.head()\n",
    "#find out that there are only 14 columns(missing Owner_Type_Third)"
   ]
  },
  {
   "cell_type": "code",
   "execution_count": 61,
   "id": "02144b92",
   "metadata": {
    "execution": {
     "iopub.execute_input": "2023-12-21T09:19:04.835420Z",
     "iopub.status.busy": "2023-12-21T09:19:04.834984Z",
     "iopub.status.idle": "2023-12-21T09:19:04.840738Z",
     "shell.execute_reply": "2023-12-21T09:19:04.839740Z"
    },
    "papermill": {
     "duration": 0.046978,
     "end_time": "2023-12-21T09:19:04.843201",
     "exception": false,
     "start_time": "2023-12-21T09:19:04.796223",
     "status": "completed"
    },
    "tags": []
   },
   "outputs": [],
   "source": [
    "Owner_Type_3 = [0]*179\n",
    "tdf1.insert(11, \"Owner_Type_Third\", Owner_Type_3, True)"
   ]
  },
  {
   "cell_type": "code",
   "execution_count": 62,
   "id": "3b3f3d4c",
   "metadata": {
    "execution": {
     "iopub.execute_input": "2023-12-21T09:19:04.919096Z",
     "iopub.status.busy": "2023-12-21T09:19:04.918619Z",
     "iopub.status.idle": "2023-12-21T09:19:04.941581Z",
     "shell.execute_reply": "2023-12-21T09:19:04.940329Z"
    },
    "papermill": {
     "duration": 0.064085,
     "end_time": "2023-12-21T09:19:04.944192",
     "exception": false,
     "start_time": "2023-12-21T09:19:04.880107",
     "status": "completed"
    },
    "tags": []
   },
   "outputs": [
    {
     "data": {
      "text/html": [
       "<div>\n",
       "<style scoped>\n",
       "    .dataframe tbody tr th:only-of-type {\n",
       "        vertical-align: middle;\n",
       "    }\n",
       "\n",
       "    .dataframe tbody tr th {\n",
       "        vertical-align: top;\n",
       "    }\n",
       "\n",
       "    .dataframe thead th {\n",
       "        text-align: right;\n",
       "    }\n",
       "</style>\n",
       "<table border=\"1\" class=\"dataframe\">\n",
       "  <thead>\n",
       "    <tr style=\"text-align: right;\">\n",
       "      <th></th>\n",
       "      <th>Location</th>\n",
       "      <th>Year</th>\n",
       "      <th>Kilometers_Driven</th>\n",
       "      <th>Mileage</th>\n",
       "      <th>Engine</th>\n",
       "      <th>Power</th>\n",
       "      <th>Seats</th>\n",
       "      <th>New_Price</th>\n",
       "      <th>Transmission_Automatic</th>\n",
       "      <th>Transmission_Manual</th>\n",
       "      <th>Owner_Type_First</th>\n",
       "      <th>Owner_Type_Third</th>\n",
       "      <th>Owner_Type_Second</th>\n",
       "      <th>Fuel_Type_CNG</th>\n",
       "      <th>Fuel_Type_Diesel</th>\n",
       "      <th>Fuel_Type_Petrol</th>\n",
       "      <th>Brand</th>\n",
       "    </tr>\n",
       "  </thead>\n",
       "  <tbody>\n",
       "    <tr>\n",
       "      <th>0</th>\n",
       "      <td>9</td>\n",
       "      <td>2017</td>\n",
       "      <td>34000</td>\n",
       "      <td>13.68</td>\n",
       "      <td>2393</td>\n",
       "      <td>147.80</td>\n",
       "      <td>7.0</td>\n",
       "      <td>25.27</td>\n",
       "      <td>0</td>\n",
       "      <td>1</td>\n",
       "      <td>1</td>\n",
       "      <td>0</td>\n",
       "      <td>0</td>\n",
       "      <td>0</td>\n",
       "      <td>1</td>\n",
       "      <td>0</td>\n",
       "      <td>21.0</td>\n",
       "    </tr>\n",
       "    <tr>\n",
       "      <th>1</th>\n",
       "      <td>2</td>\n",
       "      <td>2014</td>\n",
       "      <td>70000</td>\n",
       "      <td>23.59</td>\n",
       "      <td>1364</td>\n",
       "      <td>67.06</td>\n",
       "      <td>5.0</td>\n",
       "      <td>9.27</td>\n",
       "      <td>0</td>\n",
       "      <td>1</td>\n",
       "      <td>0</td>\n",
       "      <td>0</td>\n",
       "      <td>1</td>\n",
       "      <td>0</td>\n",
       "      <td>1</td>\n",
       "      <td>0</td>\n",
       "      <td>21.0</td>\n",
       "    </tr>\n",
       "    <tr>\n",
       "      <th>2</th>\n",
       "      <td>9</td>\n",
       "      <td>2017</td>\n",
       "      <td>13500</td>\n",
       "      <td>14.84</td>\n",
       "      <td>1598</td>\n",
       "      <td>103.52</td>\n",
       "      <td>5.0</td>\n",
       "      <td>14.95</td>\n",
       "      <td>1</td>\n",
       "      <td>0</td>\n",
       "      <td>1</td>\n",
       "      <td>0</td>\n",
       "      <td>0</td>\n",
       "      <td>0</td>\n",
       "      <td>0</td>\n",
       "      <td>1</td>\n",
       "      <td>19.0</td>\n",
       "    </tr>\n",
       "    <tr>\n",
       "      <th>3</th>\n",
       "      <td>9</td>\n",
       "      <td>2012</td>\n",
       "      <td>66889</td>\n",
       "      <td>22.48</td>\n",
       "      <td>1995</td>\n",
       "      <td>190.00</td>\n",
       "      <td>5.0</td>\n",
       "      <td>70.43</td>\n",
       "      <td>1</td>\n",
       "      <td>0</td>\n",
       "      <td>1</td>\n",
       "      <td>0</td>\n",
       "      <td>0</td>\n",
       "      <td>0</td>\n",
       "      <td>1</td>\n",
       "      <td>0</td>\n",
       "      <td>1.0</td>\n",
       "    </tr>\n",
       "    <tr>\n",
       "      <th>4</th>\n",
       "      <td>6</td>\n",
       "      <td>2018</td>\n",
       "      <td>4000</td>\n",
       "      <td>15.41</td>\n",
       "      <td>1598</td>\n",
       "      <td>103.52</td>\n",
       "      <td>5.0</td>\n",
       "      <td>11.89</td>\n",
       "      <td>0</td>\n",
       "      <td>1</td>\n",
       "      <td>1</td>\n",
       "      <td>0</td>\n",
       "      <td>0</td>\n",
       "      <td>0</td>\n",
       "      <td>0</td>\n",
       "      <td>1</td>\n",
       "      <td>19.0</td>\n",
       "    </tr>\n",
       "  </tbody>\n",
       "</table>\n",
       "</div>"
      ],
      "text/plain": [
       "   Location  Year  Kilometers_Driven  Mileage  Engine   Power  Seats  \\\n",
       "0         9  2017              34000    13.68    2393  147.80    7.0   \n",
       "1         2  2014              70000    23.59    1364   67.06    5.0   \n",
       "2         9  2017              13500    14.84    1598  103.52    5.0   \n",
       "3         9  2012              66889    22.48    1995  190.00    5.0   \n",
       "4         6  2018               4000    15.41    1598  103.52    5.0   \n",
       "\n",
       "   New_Price  Transmission_Automatic  Transmission_Manual  Owner_Type_First  \\\n",
       "0      25.27                       0                    1                 1   \n",
       "1       9.27                       0                    1                 0   \n",
       "2      14.95                       1                    0                 1   \n",
       "3      70.43                       1                    0                 1   \n",
       "4      11.89                       0                    1                 1   \n",
       "\n",
       "   Owner_Type_Third  Owner_Type_Second  Fuel_Type_CNG  Fuel_Type_Diesel  \\\n",
       "0                 0                  0              0                 1   \n",
       "1                 0                  1              0                 1   \n",
       "2                 0                  0              0                 0   \n",
       "3                 0                  0              0                 1   \n",
       "4                 0                  0              0                 0   \n",
       "\n",
       "   Fuel_Type_Petrol  Brand  \n",
       "0                 0   21.0  \n",
       "1                 0   21.0  \n",
       "2                 1   19.0  \n",
       "3                 0    1.0  \n",
       "4                 1   19.0  "
      ]
     },
     "execution_count": 62,
     "metadata": {},
     "output_type": "execute_result"
    }
   ],
   "source": [
    "tdf1.head()"
   ]
  },
  {
   "cell_type": "markdown",
   "id": "4039bf3a",
   "metadata": {
    "papermill": {
     "duration": 0.037924,
     "end_time": "2023-12-21T09:19:05.019498",
     "exception": false,
     "start_time": "2023-12-21T09:19:04.981574",
     "status": "completed"
    },
    "tags": []
   },
   "source": [
    "## Use the model obtained previously to predict"
   ]
  },
  {
   "cell_type": "code",
   "execution_count": 63,
   "id": "ca7f7990",
   "metadata": {
    "execution": {
     "iopub.execute_input": "2023-12-21T09:19:05.096237Z",
     "iopub.status.busy": "2023-12-21T09:19:05.095734Z",
     "iopub.status.idle": "2023-12-21T09:19:05.199294Z",
     "shell.execute_reply": "2023-12-21T09:19:05.197890Z"
    },
    "papermill": {
     "duration": 0.145424,
     "end_time": "2023-12-21T09:19:05.202406",
     "exception": false,
     "start_time": "2023-12-21T09:19:05.056982",
     "status": "completed"
    },
    "tags": []
   },
   "outputs": [],
   "source": [
    "Xt = tdf1.values\n",
    "Xt = scaler.fit_transform(Xt)\n",
    "yt_pred_XGB = model_XGB.predict(Xt)\n",
    "yt_pred_RF = model_RF.predict(Xt)\n",
    "yt_pred_GB = model_GB.predict(Xt)"
   ]
  },
  {
   "cell_type": "markdown",
   "id": "86651b7a",
   "metadata": {
    "papermill": {
     "duration": 0.037347,
     "end_time": "2023-12-21T09:19:05.278653",
     "exception": false,
     "start_time": "2023-12-21T09:19:05.241306",
     "status": "completed"
    },
    "tags": []
   },
   "source": [
    "## Plot out the results!"
   ]
  },
  {
   "cell_type": "code",
   "execution_count": 64,
   "id": "50d7e83b",
   "metadata": {
    "execution": {
     "iopub.execute_input": "2023-12-21T09:19:05.355481Z",
     "iopub.status.busy": "2023-12-21T09:19:05.355013Z",
     "iopub.status.idle": "2023-12-21T09:19:05.908764Z",
     "shell.execute_reply": "2023-12-21T09:19:05.907509Z"
    },
    "papermill": {
     "duration": 0.596294,
     "end_time": "2023-12-21T09:19:05.912224",
     "exception": false,
     "start_time": "2023-12-21T09:19:05.315930",
     "status": "completed"
    },
    "tags": []
   },
   "outputs": [
    {
     "data": {
      "image/png": "[encoded data removed]",
      "text/plain": [
       "<Figure size 640x480 with 1 Axes>"
      ]
     },
     "metadata": {},
     "output_type": "display_data"
    }
   ],
   "source": [
    "NewP = tdf1.New_Price\n",
    "\n",
    "#plt.scatter(NewP,NewP, color=\"b\", label='New Price')\n",
    "plt.scatter(NewP, yt_pred_XGB, color=\"r\", label='Predicted Values XGB')\n",
    "plt.scatter(NewP, yt_pred_RF, color=\"b\", label='Predicted Values RF')\n",
    "plt.scatter(NewP, yt_pred_GB, color=\"g\", label='Predicted Values GB')\n",
    "plt.xlabel(\"New Price\")\n",
    "plt.ylabel(\"Predicted Values (y_pred)\")\n",
    "plt.title(\"True vs. Predicted Values (Regression)\")\n",
    "\n",
    "# Create a legend to label the points\n",
    "plt.legend()\n",
    "plt.show()"
   ]
  },
  {
   "cell_type": "markdown",
   "id": "d5d9086d",
   "metadata": {
    "papermill": {
     "duration": 0.0379,
     "end_time": "2023-12-21T09:19:05.990559",
     "exception": false,
     "start_time": "2023-12-21T09:19:05.952659",
     "status": "completed"
    },
    "tags": []
   },
   "source": [
    "## Create a new dataframe including the predicted price"
   ]
  },
  {
   "cell_type": "code",
   "execution_count": 65,
   "id": "40c5c226",
   "metadata": {
    "execution": {
     "iopub.execute_input": "2023-12-21T09:19:06.070524Z",
     "iopub.status.busy": "2023-12-21T09:19:06.069368Z",
     "iopub.status.idle": "2023-12-21T09:19:06.078048Z",
     "shell.execute_reply": "2023-12-21T09:19:06.077063Z"
    },
    "papermill": {
     "duration": 0.051505,
     "end_time": "2023-12-21T09:19:06.080919",
     "exception": false,
     "start_time": "2023-12-21T09:19:06.029414",
     "status": "completed"
    },
    "tags": []
   },
   "outputs": [],
   "source": [
    "tdf2 = tdf1.copy()\n",
    "tdf2.insert(17, \"Price_XGB\", yt_pred_XGB, True)\n",
    "tdf2.insert(18, \"Price_RF\", yt_pred_RF, True)\n",
    "tdf2.insert(19, \"Price_GB\", yt_pred_GB, True)"
   ]
  },
  {
   "cell_type": "code",
   "execution_count": 66,
   "id": "0343e6b7",
   "metadata": {
    "execution": {
     "iopub.execute_input": "2023-12-21T09:19:06.161058Z",
     "iopub.status.busy": "2023-12-21T09:19:06.159750Z",
     "iopub.status.idle": "2023-12-21T09:19:06.193069Z",
     "shell.execute_reply": "2023-12-21T09:19:06.191863Z"
    },
    "papermill": {
     "duration": 0.075966,
     "end_time": "2023-12-21T09:19:06.195757",
     "exception": false,
     "start_time": "2023-12-21T09:19:06.119791",
     "status": "completed"
    },
    "tags": []
   },
   "outputs": [
    {
     "data": {
      "text/html": [
       "<div>\n",
       "<style scoped>\n",
       "    .dataframe tbody tr th:only-of-type {\n",
       "        vertical-align: middle;\n",
       "    }\n",
       "\n",
       "    .dataframe tbody tr th {\n",
       "        vertical-align: top;\n",
       "    }\n",
       "\n",
       "    .dataframe thead th {\n",
       "        text-align: right;\n",
       "    }\n",
       "</style>\n",
       "<table border=\"1\" class=\"dataframe\">\n",
       "  <thead>\n",
       "    <tr style=\"text-align: right;\">\n",
       "      <th></th>\n",
       "      <th>Location</th>\n",
       "      <th>Year</th>\n",
       "      <th>Kilometers_Driven</th>\n",
       "      <th>Mileage</th>\n",
       "      <th>Engine</th>\n",
       "      <th>Power</th>\n",
       "      <th>Seats</th>\n",
       "      <th>New_Price</th>\n",
       "      <th>Transmission_Automatic</th>\n",
       "      <th>Transmission_Manual</th>\n",
       "      <th>Owner_Type_First</th>\n",
       "      <th>Owner_Type_Third</th>\n",
       "      <th>Owner_Type_Second</th>\n",
       "      <th>Fuel_Type_CNG</th>\n",
       "      <th>Fuel_Type_Diesel</th>\n",
       "      <th>Fuel_Type_Petrol</th>\n",
       "      <th>Brand</th>\n",
       "      <th>Price_XGB</th>\n",
       "      <th>Price_RF</th>\n",
       "      <th>Price_GB</th>\n",
       "    </tr>\n",
       "  </thead>\n",
       "  <tbody>\n",
       "    <tr>\n",
       "      <th>0</th>\n",
       "      <td>9</td>\n",
       "      <td>2017</td>\n",
       "      <td>34000</td>\n",
       "      <td>13.68</td>\n",
       "      <td>2393</td>\n",
       "      <td>147.80</td>\n",
       "      <td>7.0</td>\n",
       "      <td>25.27</td>\n",
       "      <td>0</td>\n",
       "      <td>1</td>\n",
       "      <td>1</td>\n",
       "      <td>0</td>\n",
       "      <td>0</td>\n",
       "      <td>0</td>\n",
       "      <td>1</td>\n",
       "      <td>0</td>\n",
       "      <td>21.0</td>\n",
       "      <td>19.373785</td>\n",
       "      <td>19.77747</td>\n",
       "      <td>19.060965</td>\n",
       "    </tr>\n",
       "    <tr>\n",
       "      <th>1</th>\n",
       "      <td>2</td>\n",
       "      <td>2014</td>\n",
       "      <td>70000</td>\n",
       "      <td>23.59</td>\n",
       "      <td>1364</td>\n",
       "      <td>67.06</td>\n",
       "      <td>5.0</td>\n",
       "      <td>9.27</td>\n",
       "      <td>0</td>\n",
       "      <td>1</td>\n",
       "      <td>0</td>\n",
       "      <td>0</td>\n",
       "      <td>1</td>\n",
       "      <td>0</td>\n",
       "      <td>1</td>\n",
       "      <td>0</td>\n",
       "      <td>21.0</td>\n",
       "      <td>4.445798</td>\n",
       "      <td>5.36274</td>\n",
       "      <td>5.520855</td>\n",
       "    </tr>\n",
       "    <tr>\n",
       "      <th>2</th>\n",
       "      <td>9</td>\n",
       "      <td>2017</td>\n",
       "      <td>13500</td>\n",
       "      <td>14.84</td>\n",
       "      <td>1598</td>\n",
       "      <td>103.52</td>\n",
       "      <td>5.0</td>\n",
       "      <td>14.95</td>\n",
       "      <td>1</td>\n",
       "      <td>0</td>\n",
       "      <td>1</td>\n",
       "      <td>0</td>\n",
       "      <td>0</td>\n",
       "      <td>0</td>\n",
       "      <td>0</td>\n",
       "      <td>1</td>\n",
       "      <td>19.0</td>\n",
       "      <td>12.971344</td>\n",
       "      <td>12.11096</td>\n",
       "      <td>10.919912</td>\n",
       "    </tr>\n",
       "    <tr>\n",
       "      <th>3</th>\n",
       "      <td>9</td>\n",
       "      <td>2012</td>\n",
       "      <td>66889</td>\n",
       "      <td>22.48</td>\n",
       "      <td>1995</td>\n",
       "      <td>190.00</td>\n",
       "      <td>5.0</td>\n",
       "      <td>70.43</td>\n",
       "      <td>1</td>\n",
       "      <td>0</td>\n",
       "      <td>1</td>\n",
       "      <td>0</td>\n",
       "      <td>0</td>\n",
       "      <td>0</td>\n",
       "      <td>1</td>\n",
       "      <td>0</td>\n",
       "      <td>1.0</td>\n",
       "      <td>27.466074</td>\n",
       "      <td>26.79895</td>\n",
       "      <td>11.966653</td>\n",
       "    </tr>\n",
       "    <tr>\n",
       "      <th>4</th>\n",
       "      <td>6</td>\n",
       "      <td>2018</td>\n",
       "      <td>4000</td>\n",
       "      <td>15.41</td>\n",
       "      <td>1598</td>\n",
       "      <td>103.52</td>\n",
       "      <td>5.0</td>\n",
       "      <td>11.89</td>\n",
       "      <td>0</td>\n",
       "      <td>1</td>\n",
       "      <td>1</td>\n",
       "      <td>0</td>\n",
       "      <td>0</td>\n",
       "      <td>0</td>\n",
       "      <td>0</td>\n",
       "      <td>1</td>\n",
       "      <td>19.0</td>\n",
       "      <td>11.335465</td>\n",
       "      <td>11.39220</td>\n",
       "      <td>10.744924</td>\n",
       "    </tr>\n",
       "    <tr>\n",
       "      <th>...</th>\n",
       "      <td>...</td>\n",
       "      <td>...</td>\n",
       "      <td>...</td>\n",
       "      <td>...</td>\n",
       "      <td>...</td>\n",
       "      <td>...</td>\n",
       "      <td>...</td>\n",
       "      <td>...</td>\n",
       "      <td>...</td>\n",
       "      <td>...</td>\n",
       "      <td>...</td>\n",
       "      <td>...</td>\n",
       "      <td>...</td>\n",
       "      <td>...</td>\n",
       "      <td>...</td>\n",
       "      <td>...</td>\n",
       "      <td>...</td>\n",
       "      <td>...</td>\n",
       "      <td>...</td>\n",
       "      <td>...</td>\n",
       "    </tr>\n",
       "    <tr>\n",
       "      <th>177</th>\n",
       "      <td>10</td>\n",
       "      <td>2016</td>\n",
       "      <td>41413</td>\n",
       "      <td>27.28</td>\n",
       "      <td>1047</td>\n",
       "      <td>69.00</td>\n",
       "      <td>5.0</td>\n",
       "      <td>7.06</td>\n",
       "      <td>0</td>\n",
       "      <td>1</td>\n",
       "      <td>1</td>\n",
       "      <td>0</td>\n",
       "      <td>0</td>\n",
       "      <td>0</td>\n",
       "      <td>1</td>\n",
       "      <td>0</td>\n",
       "      <td>20.0</td>\n",
       "      <td>4.340364</td>\n",
       "      <td>4.67039</td>\n",
       "      <td>5.216588</td>\n",
       "    </tr>\n",
       "    <tr>\n",
       "      <th>178</th>\n",
       "      <td>7</td>\n",
       "      <td>2017</td>\n",
       "      <td>39015</td>\n",
       "      <td>17.00</td>\n",
       "      <td>1497</td>\n",
       "      <td>121.36</td>\n",
       "      <td>5.0</td>\n",
       "      <td>8.79</td>\n",
       "      <td>0</td>\n",
       "      <td>1</td>\n",
       "      <td>1</td>\n",
       "      <td>0</td>\n",
       "      <td>0</td>\n",
       "      <td>0</td>\n",
       "      <td>0</td>\n",
       "      <td>1</td>\n",
       "      <td>4.0</td>\n",
       "      <td>8.512444</td>\n",
       "      <td>7.89489</td>\n",
       "      <td>7.915911</td>\n",
       "    </tr>\n",
       "    <tr>\n",
       "      <th>179</th>\n",
       "      <td>9</td>\n",
       "      <td>2018</td>\n",
       "      <td>6000</td>\n",
       "      <td>16.00</td>\n",
       "      <td>1368</td>\n",
       "      <td>160.00</td>\n",
       "      <td>5.0</td>\n",
       "      <td>18.16</td>\n",
       "      <td>0</td>\n",
       "      <td>1</td>\n",
       "      <td>1</td>\n",
       "      <td>0</td>\n",
       "      <td>0</td>\n",
       "      <td>0</td>\n",
       "      <td>0</td>\n",
       "      <td>1</td>\n",
       "      <td>9.0</td>\n",
       "      <td>18.145245</td>\n",
       "      <td>17.50073</td>\n",
       "      <td>18.258750</td>\n",
       "    </tr>\n",
       "    <tr>\n",
       "      <th>180</th>\n",
       "      <td>7</td>\n",
       "      <td>2017</td>\n",
       "      <td>21380</td>\n",
       "      <td>24.30</td>\n",
       "      <td>1248</td>\n",
       "      <td>88.50</td>\n",
       "      <td>5.0</td>\n",
       "      <td>10.57</td>\n",
       "      <td>0</td>\n",
       "      <td>1</td>\n",
       "      <td>1</td>\n",
       "      <td>0</td>\n",
       "      <td>0</td>\n",
       "      <td>0</td>\n",
       "      <td>1</td>\n",
       "      <td>0</td>\n",
       "      <td>12.0</td>\n",
       "      <td>9.889704</td>\n",
       "      <td>9.49833</td>\n",
       "      <td>9.807101</td>\n",
       "    </tr>\n",
       "    <tr>\n",
       "      <th>181</th>\n",
       "      <td>7</td>\n",
       "      <td>2018</td>\n",
       "      <td>23955</td>\n",
       "      <td>18.60</td>\n",
       "      <td>1197</td>\n",
       "      <td>81.86</td>\n",
       "      <td>5.0</td>\n",
       "      <td>7.08</td>\n",
       "      <td>0</td>\n",
       "      <td>1</td>\n",
       "      <td>1</td>\n",
       "      <td>0</td>\n",
       "      <td>0</td>\n",
       "      <td>0</td>\n",
       "      <td>0</td>\n",
       "      <td>1</td>\n",
       "      <td>6.0</td>\n",
       "      <td>7.076763</td>\n",
       "      <td>7.10895</td>\n",
       "      <td>7.188132</td>\n",
       "    </tr>\n",
       "  </tbody>\n",
       "</table>\n",
       "<p>179 rows × 20 columns</p>\n",
       "</div>"
      ],
      "text/plain": [
       "     Location  Year  Kilometers_Driven  Mileage  Engine   Power  Seats  \\\n",
       "0           9  2017              34000    13.68    2393  147.80    7.0   \n",
       "1           2  2014              70000    23.59    1364   67.06    5.0   \n",
       "2           9  2017              13500    14.84    1598  103.52    5.0   \n",
       "3           9  2012              66889    22.48    1995  190.00    5.0   \n",
       "4           6  2018               4000    15.41    1598  103.52    5.0   \n",
       "..        ...   ...                ...      ...     ...     ...    ...   \n",
       "177        10  2016              41413    27.28    1047   69.00    5.0   \n",
       "178         7  2017              39015    17.00    1497  121.36    5.0   \n",
       "179         9  2018               6000    16.00    1368  160.00    5.0   \n",
       "180         7  2017              21380    24.30    1248   88.50    5.0   \n",
       "181         7  2018              23955    18.60    1197   81.86    5.0   \n",
       "\n",
       "     New_Price  Transmission_Automatic  Transmission_Manual  Owner_Type_First  \\\n",
       "0        25.27                       0                    1                 1   \n",
       "1         9.27                       0                    1                 0   \n",
       "2        14.95                       1                    0                 1   \n",
       "3        70.43                       1                    0                 1   \n",
       "4        11.89                       0                    1                 1   \n",
       "..         ...                     ...                  ...               ...   \n",
       "177       7.06                       0                    1                 1   \n",
       "178       8.79                       0                    1                 1   \n",
       "179      18.16                       0                    1                 1   \n",
       "180      10.57                       0                    1                 1   \n",
       "181       7.08                       0                    1                 1   \n",
       "\n",
       "     Owner_Type_Third  Owner_Type_Second  Fuel_Type_CNG  Fuel_Type_Diesel  \\\n",
       "0                   0                  0              0                 1   \n",
       "1                   0                  1              0                 1   \n",
       "2                   0                  0              0                 0   \n",
       "3                   0                  0              0                 1   \n",
       "4                   0                  0              0                 0   \n",
       "..                ...                ...            ...               ...   \n",
       "177                 0                  0              0                 1   \n",
       "178                 0                  0              0                 0   \n",
       "179                 0                  0              0                 0   \n",
       "180                 0                  0              0                 1   \n",
       "181                 0                  0              0                 0   \n",
       "\n",
       "     Fuel_Type_Petrol  Brand  Price_XGB  Price_RF   Price_GB  \n",
       "0                   0   21.0  19.373785  19.77747  19.060965  \n",
       "1                   0   21.0   4.445798   5.36274   5.520855  \n",
       "2                   1   19.0  12.971344  12.11096  10.919912  \n",
       "3                   0    1.0  27.466074  26.79895  11.966653  \n",
       "4                   1   19.0  11.335465  11.39220  10.744924  \n",
       "..                ...    ...        ...       ...        ...  \n",
       "177                 0   20.0   4.340364   4.67039   5.216588  \n",
       "178                 1    4.0   8.512444   7.89489   7.915911  \n",
       "179                 1    9.0  18.145245  17.50073  18.258750  \n",
       "180                 0   12.0   9.889704   9.49833   9.807101  \n",
       "181                 1    6.0   7.076763   7.10895   7.188132  \n",
       "\n",
       "[179 rows x 20 columns]"
      ]
     },
     "execution_count": 66,
     "metadata": {},
     "output_type": "execute_result"
    }
   ],
   "source": [
    "tdf2"
   ]
  }
 ],
 "metadata": {
  "kaggle": {
   "accelerator": "none",
   "dataSources": [
    {
     "datasetId": 245550,
     "sourceId": 518431,
     "sourceType": "datasetVersion"
    }
   ],
   "dockerImageVersionId": 30587,
   "isGpuEnabled": false,
   "isInternetEnabled": false,
   "language": "python",
   "sourceType": "notebook"
  },
  "kernelspec": {
   "display_name": "Python 3",
   "language": "python",
   "name": "python3"
  },
  "language_info": {
   "codemirror_mode": {
    "name": "ipython",
    "version": 3
   },
   "file_extension": ".py",
   "mimetype": "text/x-python",
   "name": "python",
   "nbconvert_exporter": "python",
   "pygments_lexer": "ipython3",
   "version": "3.10.12"
  },
  "papermill": {
   "default_parameters": {},
   "duration": 27.445847,
   "end_time": "2023-12-21T09:19:07.059012",
   "environment_variables": {},
   "exception": null,
   "input_path": "__notebook__.ipynb",
   "output_path": "__notebook__.ipynb",
   "parameters": {},
   "start_time": "2023-12-21T09:18:39.613165",
   "version": "2.4.0"
  }
 },
 "nbformat": 4,
 "nbformat_minor": 5
}
